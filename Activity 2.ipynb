{
 "cells": [
  {
   "cell_type": "markdown",
   "id": "8a3eb878-b313-4374-aed9-b4b419c3e307",
   "metadata": {},
   "source": [
    "\n",
    "<h1 style = 'text-align:center'>ACTIVITY 2<br>UK ROAD ACCIDENT DATA ANALYTICS PROJECT</h1>\n",
    "<hr>\n",
    "<h4 style = 'color:gray'>ANALYST - LOUIEZZY RAMOS </h4>"
   ]
  },
  {
   "cell_type": "markdown",
   "id": "cd4ce427-0371-4a29-927a-42b74673b2d8",
   "metadata": {},
   "source": [
    "<hr>\n",
    "<h1>IMPORT(ants)</h1>\n",
    "<hr>"
   ]
  },
  {
   "cell_type": "code",
   "execution_count": 1,
   "id": "3c396067-ac01-4d64-b71f-c69b0d87ef0a",
   "metadata": {},
   "outputs": [],
   "source": [
    "import numpy as np\n",
    "import pandas as pd\n",
    "import matplotlib.pyplot as plt\n",
    "import seaborn as sns\n",
    "from scipy.stats import f_oneway\n",
    "import warnings\n",
    "warnings.filterwarnings('ignore')"
   ]
  },
  {
   "cell_type": "markdown",
   "id": "d7361e61-ffb0-42fe-8223-7b814aeb4cba",
   "metadata": {},
   "source": [
    "<h1>DATABASE</h1>\n",
    "<hr>"
   ]
  },
  {
   "cell_type": "code",
   "execution_count": 2,
   "id": "e94c6702-0128-453d-ab36-a9ec5a3fc239",
   "metadata": {},
   "outputs": [
    {
     "data": {
      "text/html": [
       "<div>\n",
       "<style scoped>\n",
       "    .dataframe tbody tr th:only-of-type {\n",
       "        vertical-align: middle;\n",
       "    }\n",
       "\n",
       "    .dataframe tbody tr th {\n",
       "        vertical-align: top;\n",
       "    }\n",
       "\n",
       "    .dataframe thead th {\n",
       "        text-align: right;\n",
       "    }\n",
       "</style>\n",
       "<table border=\"1\" class=\"dataframe\">\n",
       "  <thead>\n",
       "    <tr style=\"text-align: right;\">\n",
       "      <th></th>\n",
       "      <th>Index</th>\n",
       "      <th>Accident_Severity</th>\n",
       "      <th>Accident Date</th>\n",
       "      <th>Latitude</th>\n",
       "      <th>Light_Conditions</th>\n",
       "      <th>District Area</th>\n",
       "      <th>Longitude</th>\n",
       "      <th>Number_of_Casualties</th>\n",
       "      <th>Number_of_Vehicles</th>\n",
       "      <th>Road_Surface_Conditions</th>\n",
       "      <th>Road_Type</th>\n",
       "      <th>Urban_or_Rural_Area</th>\n",
       "      <th>Weather_Conditions</th>\n",
       "      <th>Vehicle_Type</th>\n",
       "    </tr>\n",
       "  </thead>\n",
       "  <tbody>\n",
       "    <tr>\n",
       "      <th>0</th>\n",
       "      <td>200701BS64157</td>\n",
       "      <td>Serious</td>\n",
       "      <td>5/6/2019</td>\n",
       "      <td>51.506187</td>\n",
       "      <td>Darkness - lights lit</td>\n",
       "      <td>Kensington and Chelsea</td>\n",
       "      <td>-0.209082</td>\n",
       "      <td>1</td>\n",
       "      <td>2</td>\n",
       "      <td>Dry</td>\n",
       "      <td>Single carriageway</td>\n",
       "      <td>Urban</td>\n",
       "      <td>Fine no high winds</td>\n",
       "      <td>Car</td>\n",
       "    </tr>\n",
       "    <tr>\n",
       "      <th>1</th>\n",
       "      <td>200701BS65737</td>\n",
       "      <td>Serious</td>\n",
       "      <td>2/7/2019</td>\n",
       "      <td>51.495029</td>\n",
       "      <td>Daylight</td>\n",
       "      <td>Kensington and Chelsea</td>\n",
       "      <td>-0.173647</td>\n",
       "      <td>1</td>\n",
       "      <td>2</td>\n",
       "      <td>Wet or damp</td>\n",
       "      <td>Single carriageway</td>\n",
       "      <td>Urban</td>\n",
       "      <td>Raining no high winds</td>\n",
       "      <td>Car</td>\n",
       "    </tr>\n",
       "    <tr>\n",
       "      <th>2</th>\n",
       "      <td>200701BS66127</td>\n",
       "      <td>Serious</td>\n",
       "      <td>26-08-2019</td>\n",
       "      <td>51.517715</td>\n",
       "      <td>Darkness - lighting unknown</td>\n",
       "      <td>Kensington and Chelsea</td>\n",
       "      <td>-0.210215</td>\n",
       "      <td>1</td>\n",
       "      <td>3</td>\n",
       "      <td>Dry</td>\n",
       "      <td>NaN</td>\n",
       "      <td>Urban</td>\n",
       "      <td>NaN</td>\n",
       "      <td>Taxi/Private hire car</td>\n",
       "    </tr>\n",
       "    <tr>\n",
       "      <th>3</th>\n",
       "      <td>200701BS66128</td>\n",
       "      <td>Serious</td>\n",
       "      <td>16-08-2019</td>\n",
       "      <td>51.495478</td>\n",
       "      <td>Daylight</td>\n",
       "      <td>Kensington and Chelsea</td>\n",
       "      <td>-0.202731</td>\n",
       "      <td>1</td>\n",
       "      <td>4</td>\n",
       "      <td>Dry</td>\n",
       "      <td>Single carriageway</td>\n",
       "      <td>Urban</td>\n",
       "      <td>Fine no high winds</td>\n",
       "      <td>Bus or coach (17 or more pass seats)</td>\n",
       "    </tr>\n",
       "    <tr>\n",
       "      <th>4</th>\n",
       "      <td>200701BS66837</td>\n",
       "      <td>Slight</td>\n",
       "      <td>3/9/2019</td>\n",
       "      <td>51.488576</td>\n",
       "      <td>Darkness - lights lit</td>\n",
       "      <td>Kensington and Chelsea</td>\n",
       "      <td>-0.192487</td>\n",
       "      <td>1</td>\n",
       "      <td>2</td>\n",
       "      <td>Dry</td>\n",
       "      <td>NaN</td>\n",
       "      <td>Urban</td>\n",
       "      <td>NaN</td>\n",
       "      <td>Other vehicle</td>\n",
       "    </tr>\n",
       "    <tr>\n",
       "      <th>...</th>\n",
       "      <td>...</td>\n",
       "      <td>...</td>\n",
       "      <td>...</td>\n",
       "      <td>...</td>\n",
       "      <td>...</td>\n",
       "      <td>...</td>\n",
       "      <td>...</td>\n",
       "      <td>...</td>\n",
       "      <td>...</td>\n",
       "      <td>...</td>\n",
       "      <td>...</td>\n",
       "      <td>...</td>\n",
       "      <td>...</td>\n",
       "      <td>...</td>\n",
       "    </tr>\n",
       "    <tr>\n",
       "      <th>660674</th>\n",
       "      <td>201091NM01760</td>\n",
       "      <td>Slight</td>\n",
       "      <td>18-02-2022</td>\n",
       "      <td>57.374005</td>\n",
       "      <td>Daylight</td>\n",
       "      <td>Highland</td>\n",
       "      <td>-3.467828</td>\n",
       "      <td>2</td>\n",
       "      <td>1</td>\n",
       "      <td>Dry</td>\n",
       "      <td>Single carriageway</td>\n",
       "      <td>Rural</td>\n",
       "      <td>Fine no high winds</td>\n",
       "      <td>Car</td>\n",
       "    </tr>\n",
       "    <tr>\n",
       "      <th>660675</th>\n",
       "      <td>201091NM01881</td>\n",
       "      <td>Slight</td>\n",
       "      <td>21-02-2022</td>\n",
       "      <td>57.232273</td>\n",
       "      <td>Darkness - no lighting</td>\n",
       "      <td>Highland</td>\n",
       "      <td>-3.809281</td>\n",
       "      <td>1</td>\n",
       "      <td>1</td>\n",
       "      <td>Frost or ice</td>\n",
       "      <td>Single carriageway</td>\n",
       "      <td>Rural</td>\n",
       "      <td>Fine no high winds</td>\n",
       "      <td>Car</td>\n",
       "    </tr>\n",
       "    <tr>\n",
       "      <th>660676</th>\n",
       "      <td>201091NM01935</td>\n",
       "      <td>Slight</td>\n",
       "      <td>23-02-2022</td>\n",
       "      <td>57.585044</td>\n",
       "      <td>Daylight</td>\n",
       "      <td>Highland</td>\n",
       "      <td>-3.862727</td>\n",
       "      <td>1</td>\n",
       "      <td>3</td>\n",
       "      <td>Frost or ice</td>\n",
       "      <td>Single carriageway</td>\n",
       "      <td>Rural</td>\n",
       "      <td>Fine no high winds</td>\n",
       "      <td>Car</td>\n",
       "    </tr>\n",
       "    <tr>\n",
       "      <th>660677</th>\n",
       "      <td>201091NM01964</td>\n",
       "      <td>Serious</td>\n",
       "      <td>23-02-2022</td>\n",
       "      <td>57.214898</td>\n",
       "      <td>Darkness - no lighting</td>\n",
       "      <td>Highland</td>\n",
       "      <td>-3.823997</td>\n",
       "      <td>1</td>\n",
       "      <td>2</td>\n",
       "      <td>Wet or damp</td>\n",
       "      <td>Single carriageway</td>\n",
       "      <td>Rural</td>\n",
       "      <td>Fine no high winds</td>\n",
       "      <td>Motorcycle over 500cc</td>\n",
       "    </tr>\n",
       "    <tr>\n",
       "      <th>660678</th>\n",
       "      <td>201091NM02142</td>\n",
       "      <td>Serious</td>\n",
       "      <td>28-02-2022</td>\n",
       "      <td>57.575210</td>\n",
       "      <td>Daylight</td>\n",
       "      <td>Highland</td>\n",
       "      <td>-3.895673</td>\n",
       "      <td>1</td>\n",
       "      <td>1</td>\n",
       "      <td>Wet or damp</td>\n",
       "      <td>Dual carriageway</td>\n",
       "      <td>Rural</td>\n",
       "      <td>Snowing no high winds</td>\n",
       "      <td>Car</td>\n",
       "    </tr>\n",
       "  </tbody>\n",
       "</table>\n",
       "<p>660679 rows × 14 columns</p>\n",
       "</div>"
      ],
      "text/plain": [
       "                Index Accident_Severity Accident Date   Latitude  \\\n",
       "0       200701BS64157           Serious      5/6/2019  51.506187   \n",
       "1       200701BS65737           Serious      2/7/2019  51.495029   \n",
       "2       200701BS66127           Serious    26-08-2019  51.517715   \n",
       "3       200701BS66128           Serious    16-08-2019  51.495478   \n",
       "4       200701BS66837            Slight      3/9/2019  51.488576   \n",
       "...               ...               ...           ...        ...   \n",
       "660674  201091NM01760            Slight    18-02-2022  57.374005   \n",
       "660675  201091NM01881            Slight    21-02-2022  57.232273   \n",
       "660676  201091NM01935            Slight    23-02-2022  57.585044   \n",
       "660677  201091NM01964           Serious    23-02-2022  57.214898   \n",
       "660678  201091NM02142           Serious    28-02-2022  57.575210   \n",
       "\n",
       "                   Light_Conditions           District Area  Longitude  \\\n",
       "0             Darkness - lights lit  Kensington and Chelsea  -0.209082   \n",
       "1                          Daylight  Kensington and Chelsea  -0.173647   \n",
       "2       Darkness - lighting unknown  Kensington and Chelsea  -0.210215   \n",
       "3                          Daylight  Kensington and Chelsea  -0.202731   \n",
       "4             Darkness - lights lit  Kensington and Chelsea  -0.192487   \n",
       "...                             ...                     ...        ...   \n",
       "660674                     Daylight                Highland  -3.467828   \n",
       "660675       Darkness - no lighting                Highland  -3.809281   \n",
       "660676                     Daylight                Highland  -3.862727   \n",
       "660677       Darkness - no lighting                Highland  -3.823997   \n",
       "660678                     Daylight                Highland  -3.895673   \n",
       "\n",
       "        Number_of_Casualties  Number_of_Vehicles Road_Surface_Conditions  \\\n",
       "0                          1                   2                     Dry   \n",
       "1                          1                   2             Wet or damp   \n",
       "2                          1                   3                     Dry   \n",
       "3                          1                   4                     Dry   \n",
       "4                          1                   2                     Dry   \n",
       "...                      ...                 ...                     ...   \n",
       "660674                     2                   1                     Dry   \n",
       "660675                     1                   1            Frost or ice   \n",
       "660676                     1                   3            Frost or ice   \n",
       "660677                     1                   2             Wet or damp   \n",
       "660678                     1                   1             Wet or damp   \n",
       "\n",
       "                 Road_Type Urban_or_Rural_Area     Weather_Conditions  \\\n",
       "0       Single carriageway               Urban     Fine no high winds   \n",
       "1       Single carriageway               Urban  Raining no high winds   \n",
       "2                      NaN               Urban                    NaN   \n",
       "3       Single carriageway               Urban     Fine no high winds   \n",
       "4                      NaN               Urban                    NaN   \n",
       "...                    ...                 ...                    ...   \n",
       "660674  Single carriageway               Rural     Fine no high winds   \n",
       "660675  Single carriageway               Rural     Fine no high winds   \n",
       "660676  Single carriageway               Rural     Fine no high winds   \n",
       "660677  Single carriageway               Rural     Fine no high winds   \n",
       "660678    Dual carriageway               Rural  Snowing no high winds   \n",
       "\n",
       "                                Vehicle_Type  \n",
       "0                                        Car  \n",
       "1                                        Car  \n",
       "2                      Taxi/Private hire car  \n",
       "3       Bus or coach (17 or more pass seats)  \n",
       "4                              Other vehicle  \n",
       "...                                      ...  \n",
       "660674                                   Car  \n",
       "660675                                   Car  \n",
       "660676                                   Car  \n",
       "660677                 Motorcycle over 500cc  \n",
       "660678                                   Car  \n",
       "\n",
       "[660679 rows x 14 columns]"
      ]
     },
     "execution_count": 2,
     "metadata": {},
     "output_type": "execute_result"
    }
   ],
   "source": [
    "accident = pd.read_csv(\"datasets//uk_road_accident.csv\")\n",
    "accident"
   ]
  },
  {
   "cell_type": "code",
   "execution_count": 3,
   "id": "bdcddaee-b7b4-4535-bb08-a8e9bc9becbe",
   "metadata": {},
   "outputs": [
    {
     "data": {
      "text/html": [
       "<div>\n",
       "<style scoped>\n",
       "    .dataframe tbody tr th:only-of-type {\n",
       "        vertical-align: middle;\n",
       "    }\n",
       "\n",
       "    .dataframe tbody tr th {\n",
       "        vertical-align: top;\n",
       "    }\n",
       "\n",
       "    .dataframe thead th {\n",
       "        text-align: right;\n",
       "    }\n",
       "</style>\n",
       "<table border=\"1\" class=\"dataframe\">\n",
       "  <thead>\n",
       "    <tr style=\"text-align: right;\">\n",
       "      <th></th>\n",
       "      <th>Latitude</th>\n",
       "      <th>Longitude</th>\n",
       "      <th>Number_of_Casualties</th>\n",
       "      <th>Number_of_Vehicles</th>\n",
       "    </tr>\n",
       "  </thead>\n",
       "  <tbody>\n",
       "    <tr>\n",
       "      <th>count</th>\n",
       "      <td>660654.000000</td>\n",
       "      <td>660653.000000</td>\n",
       "      <td>660679.000000</td>\n",
       "      <td>660679.000000</td>\n",
       "    </tr>\n",
       "    <tr>\n",
       "      <th>mean</th>\n",
       "      <td>52.553866</td>\n",
       "      <td>-1.431210</td>\n",
       "      <td>1.357040</td>\n",
       "      <td>1.831255</td>\n",
       "    </tr>\n",
       "    <tr>\n",
       "      <th>std</th>\n",
       "      <td>1.406922</td>\n",
       "      <td>1.383330</td>\n",
       "      <td>0.824847</td>\n",
       "      <td>0.715269</td>\n",
       "    </tr>\n",
       "    <tr>\n",
       "      <th>min</th>\n",
       "      <td>49.914430</td>\n",
       "      <td>-7.516225</td>\n",
       "      <td>1.000000</td>\n",
       "      <td>1.000000</td>\n",
       "    </tr>\n",
       "    <tr>\n",
       "      <th>25%</th>\n",
       "      <td>51.490690</td>\n",
       "      <td>-2.332291</td>\n",
       "      <td>1.000000</td>\n",
       "      <td>1.000000</td>\n",
       "    </tr>\n",
       "    <tr>\n",
       "      <th>50%</th>\n",
       "      <td>52.315641</td>\n",
       "      <td>-1.411667</td>\n",
       "      <td>1.000000</td>\n",
       "      <td>2.000000</td>\n",
       "    </tr>\n",
       "    <tr>\n",
       "      <th>75%</th>\n",
       "      <td>53.453452</td>\n",
       "      <td>-0.232869</td>\n",
       "      <td>1.000000</td>\n",
       "      <td>2.000000</td>\n",
       "    </tr>\n",
       "    <tr>\n",
       "      <th>max</th>\n",
       "      <td>60.757544</td>\n",
       "      <td>1.762010</td>\n",
       "      <td>68.000000</td>\n",
       "      <td>32.000000</td>\n",
       "    </tr>\n",
       "  </tbody>\n",
       "</table>\n",
       "</div>"
      ],
      "text/plain": [
       "            Latitude      Longitude  Number_of_Casualties  Number_of_Vehicles\n",
       "count  660654.000000  660653.000000         660679.000000       660679.000000\n",
       "mean       52.553866      -1.431210              1.357040            1.831255\n",
       "std         1.406922       1.383330              0.824847            0.715269\n",
       "min        49.914430      -7.516225              1.000000            1.000000\n",
       "25%        51.490690      -2.332291              1.000000            1.000000\n",
       "50%        52.315641      -1.411667              1.000000            2.000000\n",
       "75%        53.453452      -0.232869              1.000000            2.000000\n",
       "max        60.757544       1.762010             68.000000           32.000000"
      ]
     },
     "execution_count": 3,
     "metadata": {},
     "output_type": "execute_result"
    }
   ],
   "source": [
    "accident.describe()"
   ]
  },
  {
   "cell_type": "markdown",
   "id": "3e175b83-1294-44c4-9aad-c662b03daf3d",
   "metadata": {},
   "source": [
    "<h1>FILLING UP NULL VALUES</h1>\n",
    "<hr>"
   ]
  },
  {
   "cell_type": "code",
   "execution_count": 4,
   "id": "7a0c2620-658b-4097-abbc-edff892f64d8",
   "metadata": {},
   "outputs": [
    {
     "name": "stdout",
     "output_type": "stream",
     "text": [
      "<class 'pandas.core.frame.DataFrame'>\n",
      "RangeIndex: 660679 entries, 0 to 660678\n",
      "Data columns (total 14 columns):\n",
      " #   Column                   Non-Null Count   Dtype  \n",
      "---  ------                   --------------   -----  \n",
      " 0   Index                    660679 non-null  object \n",
      " 1   Accident_Severity        660679 non-null  object \n",
      " 2   Accident Date            660679 non-null  object \n",
      " 3   Latitude                 660654 non-null  float64\n",
      " 4   Light_Conditions         660679 non-null  object \n",
      " 5   District Area            660679 non-null  object \n",
      " 6   Longitude                660653 non-null  float64\n",
      " 7   Number_of_Casualties     660679 non-null  int64  \n",
      " 8   Number_of_Vehicles       660679 non-null  int64  \n",
      " 9   Road_Surface_Conditions  659953 non-null  object \n",
      " 10  Road_Type                656159 non-null  object \n",
      " 11  Urban_or_Rural_Area      660664 non-null  object \n",
      " 12  Weather_Conditions       646551 non-null  object \n",
      " 13  Vehicle_Type             660679 non-null  object \n",
      "dtypes: float64(2), int64(2), object(10)\n",
      "memory usage: 70.6+ MB\n"
     ]
    }
   ],
   "source": [
    "accident.info()"
   ]
  },
  {
   "cell_type": "markdown",
   "id": "693066a8-000b-4428-a5ae-4b1f332bff97",
   "metadata": {},
   "source": [
    "<h4>Main set of null values</h4>"
   ]
  },
  {
   "cell_type": "code",
   "execution_count": 5,
   "id": "3b067285-cb88-4c99-9819-5c7c9b57a547",
   "metadata": {},
   "outputs": [
    {
     "data": {
      "text/plain": [
       "Index                          0\n",
       "Accident_Severity              0\n",
       "Accident Date                  0\n",
       "Latitude                      25\n",
       "Light_Conditions               0\n",
       "District Area                  0\n",
       "Longitude                     26\n",
       "Number_of_Casualties           0\n",
       "Number_of_Vehicles             0\n",
       "Road_Surface_Conditions      726\n",
       "Road_Type                   4520\n",
       "Urban_or_Rural_Area           15\n",
       "Weather_Conditions         14128\n",
       "Vehicle_Type                   0\n",
       "dtype: int64"
      ]
     },
     "execution_count": 5,
     "metadata": {},
     "output_type": "execute_result"
    }
   ],
   "source": [
    "accident.isnull().sum()"
   ]
  },
  {
   "cell_type": "code",
   "execution_count": 6,
   "id": "369915af-9679-4df6-8de0-75b45cba16ea",
   "metadata": {},
   "outputs": [],
   "source": [
    "accident['Latitude'] = accident['Latitude'].fillna(accident['Latitude'].mode()[0])\n",
    "accident['Longitude'] = accident['Longitude'].fillna(accident['Longitude'].mode()[0])\n",
    "accident['Road_Surface_Conditions'] = accident['Road_Surface_Conditions'].fillna(accident['Road_Surface_Conditions'].mode()[0])\n",
    "accident['Road_Type'] = accident['Road_Type'].fillna(accident['Road_Type'].mode()[0])\n",
    "accident['Urban_or_Rural_Area'] = accident['Urban_or_Rural_Area'].fillna(accident['Urban_or_Rural_Area'].mode()[0])\n",
    "accident['Weather_Conditions'] = accident['Weather_Conditions'].fillna(accident['Weather_Conditions'].mode()[0])"
   ]
  },
  {
   "cell_type": "code",
   "execution_count": 7,
   "id": "50bb3f55-8456-42b0-addb-f1aea4ce71d2",
   "metadata": {},
   "outputs": [
    {
     "data": {
      "text/plain": [
       "Index                      0\n",
       "Accident_Severity          0\n",
       "Accident Date              0\n",
       "Latitude                   0\n",
       "Light_Conditions           0\n",
       "District Area              0\n",
       "Longitude                  0\n",
       "Number_of_Casualties       0\n",
       "Number_of_Vehicles         0\n",
       "Road_Surface_Conditions    0\n",
       "Road_Type                  0\n",
       "Urban_or_Rural_Area        0\n",
       "Weather_Conditions         0\n",
       "Vehicle_Type               0\n",
       "dtype: int64"
      ]
     },
     "execution_count": 7,
     "metadata": {},
     "output_type": "execute_result"
    }
   ],
   "source": [
    "accident.isnull().sum()"
   ]
  },
  {
   "cell_type": "code",
   "execution_count": 8,
   "id": "e21fb3e5-79c4-49d6-a343-f8ca401bd810",
   "metadata": {},
   "outputs": [
    {
     "name": "stdout",
     "output_type": "stream",
     "text": [
      "<class 'pandas.core.frame.DataFrame'>\n",
      "RangeIndex: 660679 entries, 0 to 660678\n",
      "Data columns (total 14 columns):\n",
      " #   Column                   Non-Null Count   Dtype  \n",
      "---  ------                   --------------   -----  \n",
      " 0   Index                    660679 non-null  object \n",
      " 1   Accident_Severity        660679 non-null  object \n",
      " 2   Accident Date            660679 non-null  object \n",
      " 3   Latitude                 660679 non-null  float64\n",
      " 4   Light_Conditions         660679 non-null  object \n",
      " 5   District Area            660679 non-null  object \n",
      " 6   Longitude                660679 non-null  float64\n",
      " 7   Number_of_Casualties     660679 non-null  int64  \n",
      " 8   Number_of_Vehicles       660679 non-null  int64  \n",
      " 9   Road_Surface_Conditions  660679 non-null  object \n",
      " 10  Road_Type                660679 non-null  object \n",
      " 11  Urban_or_Rural_Area      660679 non-null  object \n",
      " 12  Weather_Conditions       660679 non-null  object \n",
      " 13  Vehicle_Type             660679 non-null  object \n",
      "dtypes: float64(2), int64(2), object(10)\n",
      "memory usage: 70.6+ MB\n"
     ]
    }
   ],
   "source": [
    "accident.info()"
   ]
  },
  {
   "cell_type": "code",
   "execution_count": 9,
   "id": "4d107fe1-b1bc-46ec-a734-c6d6258e9322",
   "metadata": {},
   "outputs": [],
   "source": [
    "accident['Road_Surface_Conditions'] = accident['Road_Surface_Conditions'].astype('category')\n",
    "accident['Road_Type'] = accident['Road_Type'].astype('category')\n",
    "accident['Urban_or_Rural_Area'] = accident['Urban_or_Rural_Area'].astype('category')\n",
    "accident['Weather_Conditions'] = accident['Weather_Conditions'].astype('category')\n",
    "accident['Accident_Severity'] = accident['Accident_Severity'].astype('category')\n",
    "accident['Accident Date'] = accident['Accident Date'].astype('category')\n",
    "accident['Light_Conditions'] = accident['Light_Conditions'].astype('category')\n",
    "accident['Vehicle_Type'] = accident['Vehicle_Type'].astype('category')\n",
    "\n",
    "accident['District Area'] = accident['District Area'].astype('category')\n"
   ]
  },
  {
   "cell_type": "code",
   "execution_count": 10,
   "id": "0ee71046-d8b3-4944-bdbe-26e097805649",
   "metadata": {},
   "outputs": [
    {
     "name": "stdout",
     "output_type": "stream",
     "text": [
      "<class 'pandas.core.frame.DataFrame'>\n",
      "RangeIndex: 660679 entries, 0 to 660678\n",
      "Data columns (total 14 columns):\n",
      " #   Column                   Non-Null Count   Dtype   \n",
      "---  ------                   --------------   -----   \n",
      " 0   Index                    660679 non-null  object  \n",
      " 1   Accident_Severity        660679 non-null  category\n",
      " 2   Accident Date            660679 non-null  category\n",
      " 3   Latitude                 660679 non-null  float64 \n",
      " 4   Light_Conditions         660679 non-null  category\n",
      " 5   District Area            660679 non-null  category\n",
      " 6   Longitude                660679 non-null  float64 \n",
      " 7   Number_of_Casualties     660679 non-null  int64   \n",
      " 8   Number_of_Vehicles       660679 non-null  int64   \n",
      " 9   Road_Surface_Conditions  660679 non-null  category\n",
      " 10  Road_Type                660679 non-null  category\n",
      " 11  Urban_or_Rural_Area      660679 non-null  category\n",
      " 12  Weather_Conditions       660679 non-null  category\n",
      " 13  Vehicle_Type             660679 non-null  category\n",
      "dtypes: category(9), float64(2), int64(2), object(1)\n",
      "memory usage: 32.2+ MB\n"
     ]
    }
   ],
   "source": [
    "accident.info()"
   ]
  },
  {
   "cell_type": "markdown",
   "id": "537bce54-c277-42db-8143-fdb592baed55",
   "metadata": {},
   "source": [
    "<hr>\n",
    "<h1>CLEARING</h1>\n",
    "<hr>"
   ]
  },
  {
   "cell_type": "code",
   "execution_count": 11,
   "id": "07133f50-d931-4758-ba06-213df006e7ea",
   "metadata": {},
   "outputs": [],
   "source": [
    "accident['Accident Date'] = accident['Accident Date'].str.strip()\n",
    "\n",
    "accident['Accident Date'] = accident['Accident Date'].astype('str')\n",
    "\n",
    "accident['Accident Date'] = accident['Accident Date'].str.replace('/', '-')"
   ]
  },
  {
   "cell_type": "code",
   "execution_count": 12,
   "id": "0f0ff902-e039-4ddb-a11f-590cddaabb77",
   "metadata": {},
   "outputs": [],
   "source": [
    "accident['Accident Date'] = pd.to_datetime(accident['Accident Date'], dayfirst = True, errors = 'coerce')"
   ]
  },
  {
   "cell_type": "markdown",
   "id": "cb5c1fb1-6b83-4599-b81b-9f7a2c7fdc57",
   "metadata": {},
   "source": [
    "<hr>\n",
    "<h1>CHANGING 'ACCIDENT DATE' DATA TYPE</h1>\n",
    "<hr>"
   ]
  },
  {
   "cell_type": "code",
   "execution_count": 13,
   "id": "b894f848-23cb-49b0-ab4e-85a9777ff240",
   "metadata": {},
   "outputs": [
    {
     "data": {
      "text/html": [
       "<div>\n",
       "<style scoped>\n",
       "    .dataframe tbody tr th:only-of-type {\n",
       "        vertical-align: middle;\n",
       "    }\n",
       "\n",
       "    .dataframe tbody tr th {\n",
       "        vertical-align: top;\n",
       "    }\n",
       "\n",
       "    .dataframe thead th {\n",
       "        text-align: right;\n",
       "    }\n",
       "</style>\n",
       "<table border=\"1\" class=\"dataframe\">\n",
       "  <thead>\n",
       "    <tr style=\"text-align: right;\">\n",
       "      <th></th>\n",
       "      <th>Index</th>\n",
       "      <th>Accident_Severity</th>\n",
       "      <th>Accident Date</th>\n",
       "      <th>Latitude</th>\n",
       "      <th>Light_Conditions</th>\n",
       "      <th>District Area</th>\n",
       "      <th>Longitude</th>\n",
       "      <th>Number_of_Casualties</th>\n",
       "      <th>Number_of_Vehicles</th>\n",
       "      <th>Road_Surface_Conditions</th>\n",
       "      <th>Road_Type</th>\n",
       "      <th>Urban_or_Rural_Area</th>\n",
       "      <th>Weather_Conditions</th>\n",
       "      <th>Vehicle_Type</th>\n",
       "    </tr>\n",
       "  </thead>\n",
       "  <tbody>\n",
       "    <tr>\n",
       "      <th>0</th>\n",
       "      <td>200701BS64157</td>\n",
       "      <td>Serious</td>\n",
       "      <td>2019-06-05</td>\n",
       "      <td>51.506187</td>\n",
       "      <td>Darkness - lights lit</td>\n",
       "      <td>Kensington and Chelsea</td>\n",
       "      <td>-0.209082</td>\n",
       "      <td>1</td>\n",
       "      <td>2</td>\n",
       "      <td>Dry</td>\n",
       "      <td>Single carriageway</td>\n",
       "      <td>Urban</td>\n",
       "      <td>Fine no high winds</td>\n",
       "      <td>Car</td>\n",
       "    </tr>\n",
       "    <tr>\n",
       "      <th>1</th>\n",
       "      <td>200701BS65737</td>\n",
       "      <td>Serious</td>\n",
       "      <td>2019-07-02</td>\n",
       "      <td>51.495029</td>\n",
       "      <td>Daylight</td>\n",
       "      <td>Kensington and Chelsea</td>\n",
       "      <td>-0.173647</td>\n",
       "      <td>1</td>\n",
       "      <td>2</td>\n",
       "      <td>Wet or damp</td>\n",
       "      <td>Single carriageway</td>\n",
       "      <td>Urban</td>\n",
       "      <td>Raining no high winds</td>\n",
       "      <td>Car</td>\n",
       "    </tr>\n",
       "    <tr>\n",
       "      <th>2</th>\n",
       "      <td>200701BS66127</td>\n",
       "      <td>Serious</td>\n",
       "      <td>2019-08-26</td>\n",
       "      <td>51.517715</td>\n",
       "      <td>Darkness - lighting unknown</td>\n",
       "      <td>Kensington and Chelsea</td>\n",
       "      <td>-0.210215</td>\n",
       "      <td>1</td>\n",
       "      <td>3</td>\n",
       "      <td>Dry</td>\n",
       "      <td>Single carriageway</td>\n",
       "      <td>Urban</td>\n",
       "      <td>Fine no high winds</td>\n",
       "      <td>Taxi/Private hire car</td>\n",
       "    </tr>\n",
       "    <tr>\n",
       "      <th>3</th>\n",
       "      <td>200701BS66128</td>\n",
       "      <td>Serious</td>\n",
       "      <td>2019-08-16</td>\n",
       "      <td>51.495478</td>\n",
       "      <td>Daylight</td>\n",
       "      <td>Kensington and Chelsea</td>\n",
       "      <td>-0.202731</td>\n",
       "      <td>1</td>\n",
       "      <td>4</td>\n",
       "      <td>Dry</td>\n",
       "      <td>Single carriageway</td>\n",
       "      <td>Urban</td>\n",
       "      <td>Fine no high winds</td>\n",
       "      <td>Bus or coach (17 or more pass seats)</td>\n",
       "    </tr>\n",
       "    <tr>\n",
       "      <th>4</th>\n",
       "      <td>200701BS66837</td>\n",
       "      <td>Slight</td>\n",
       "      <td>2019-09-03</td>\n",
       "      <td>51.488576</td>\n",
       "      <td>Darkness - lights lit</td>\n",
       "      <td>Kensington and Chelsea</td>\n",
       "      <td>-0.192487</td>\n",
       "      <td>1</td>\n",
       "      <td>2</td>\n",
       "      <td>Dry</td>\n",
       "      <td>Single carriageway</td>\n",
       "      <td>Urban</td>\n",
       "      <td>Fine no high winds</td>\n",
       "      <td>Other vehicle</td>\n",
       "    </tr>\n",
       "    <tr>\n",
       "      <th>...</th>\n",
       "      <td>...</td>\n",
       "      <td>...</td>\n",
       "      <td>...</td>\n",
       "      <td>...</td>\n",
       "      <td>...</td>\n",
       "      <td>...</td>\n",
       "      <td>...</td>\n",
       "      <td>...</td>\n",
       "      <td>...</td>\n",
       "      <td>...</td>\n",
       "      <td>...</td>\n",
       "      <td>...</td>\n",
       "      <td>...</td>\n",
       "      <td>...</td>\n",
       "    </tr>\n",
       "    <tr>\n",
       "      <th>660674</th>\n",
       "      <td>201091NM01760</td>\n",
       "      <td>Slight</td>\n",
       "      <td>2022-02-18</td>\n",
       "      <td>57.374005</td>\n",
       "      <td>Daylight</td>\n",
       "      <td>Highland</td>\n",
       "      <td>-3.467828</td>\n",
       "      <td>2</td>\n",
       "      <td>1</td>\n",
       "      <td>Dry</td>\n",
       "      <td>Single carriageway</td>\n",
       "      <td>Rural</td>\n",
       "      <td>Fine no high winds</td>\n",
       "      <td>Car</td>\n",
       "    </tr>\n",
       "    <tr>\n",
       "      <th>660675</th>\n",
       "      <td>201091NM01881</td>\n",
       "      <td>Slight</td>\n",
       "      <td>2022-02-21</td>\n",
       "      <td>57.232273</td>\n",
       "      <td>Darkness - no lighting</td>\n",
       "      <td>Highland</td>\n",
       "      <td>-3.809281</td>\n",
       "      <td>1</td>\n",
       "      <td>1</td>\n",
       "      <td>Frost or ice</td>\n",
       "      <td>Single carriageway</td>\n",
       "      <td>Rural</td>\n",
       "      <td>Fine no high winds</td>\n",
       "      <td>Car</td>\n",
       "    </tr>\n",
       "    <tr>\n",
       "      <th>660676</th>\n",
       "      <td>201091NM01935</td>\n",
       "      <td>Slight</td>\n",
       "      <td>2022-02-23</td>\n",
       "      <td>57.585044</td>\n",
       "      <td>Daylight</td>\n",
       "      <td>Highland</td>\n",
       "      <td>-3.862727</td>\n",
       "      <td>1</td>\n",
       "      <td>3</td>\n",
       "      <td>Frost or ice</td>\n",
       "      <td>Single carriageway</td>\n",
       "      <td>Rural</td>\n",
       "      <td>Fine no high winds</td>\n",
       "      <td>Car</td>\n",
       "    </tr>\n",
       "    <tr>\n",
       "      <th>660677</th>\n",
       "      <td>201091NM01964</td>\n",
       "      <td>Serious</td>\n",
       "      <td>2022-02-23</td>\n",
       "      <td>57.214898</td>\n",
       "      <td>Darkness - no lighting</td>\n",
       "      <td>Highland</td>\n",
       "      <td>-3.823997</td>\n",
       "      <td>1</td>\n",
       "      <td>2</td>\n",
       "      <td>Wet or damp</td>\n",
       "      <td>Single carriageway</td>\n",
       "      <td>Rural</td>\n",
       "      <td>Fine no high winds</td>\n",
       "      <td>Motorcycle over 500cc</td>\n",
       "    </tr>\n",
       "    <tr>\n",
       "      <th>660678</th>\n",
       "      <td>201091NM02142</td>\n",
       "      <td>Serious</td>\n",
       "      <td>2022-02-28</td>\n",
       "      <td>57.575210</td>\n",
       "      <td>Daylight</td>\n",
       "      <td>Highland</td>\n",
       "      <td>-3.895673</td>\n",
       "      <td>1</td>\n",
       "      <td>1</td>\n",
       "      <td>Wet or damp</td>\n",
       "      <td>Dual carriageway</td>\n",
       "      <td>Rural</td>\n",
       "      <td>Snowing no high winds</td>\n",
       "      <td>Car</td>\n",
       "    </tr>\n",
       "  </tbody>\n",
       "</table>\n",
       "<p>660679 rows × 14 columns</p>\n",
       "</div>"
      ],
      "text/plain": [
       "                Index Accident_Severity Accident Date   Latitude  \\\n",
       "0       200701BS64157           Serious    2019-06-05  51.506187   \n",
       "1       200701BS65737           Serious    2019-07-02  51.495029   \n",
       "2       200701BS66127           Serious    2019-08-26  51.517715   \n",
       "3       200701BS66128           Serious    2019-08-16  51.495478   \n",
       "4       200701BS66837            Slight    2019-09-03  51.488576   \n",
       "...               ...               ...           ...        ...   \n",
       "660674  201091NM01760            Slight    2022-02-18  57.374005   \n",
       "660675  201091NM01881            Slight    2022-02-21  57.232273   \n",
       "660676  201091NM01935            Slight    2022-02-23  57.585044   \n",
       "660677  201091NM01964           Serious    2022-02-23  57.214898   \n",
       "660678  201091NM02142           Serious    2022-02-28  57.575210   \n",
       "\n",
       "                   Light_Conditions           District Area  Longitude  \\\n",
       "0             Darkness - lights lit  Kensington and Chelsea  -0.209082   \n",
       "1                          Daylight  Kensington and Chelsea  -0.173647   \n",
       "2       Darkness - lighting unknown  Kensington and Chelsea  -0.210215   \n",
       "3                          Daylight  Kensington and Chelsea  -0.202731   \n",
       "4             Darkness - lights lit  Kensington and Chelsea  -0.192487   \n",
       "...                             ...                     ...        ...   \n",
       "660674                     Daylight                Highland  -3.467828   \n",
       "660675       Darkness - no lighting                Highland  -3.809281   \n",
       "660676                     Daylight                Highland  -3.862727   \n",
       "660677       Darkness - no lighting                Highland  -3.823997   \n",
       "660678                     Daylight                Highland  -3.895673   \n",
       "\n",
       "        Number_of_Casualties  Number_of_Vehicles Road_Surface_Conditions  \\\n",
       "0                          1                   2                     Dry   \n",
       "1                          1                   2             Wet or damp   \n",
       "2                          1                   3                     Dry   \n",
       "3                          1                   4                     Dry   \n",
       "4                          1                   2                     Dry   \n",
       "...                      ...                 ...                     ...   \n",
       "660674                     2                   1                     Dry   \n",
       "660675                     1                   1            Frost or ice   \n",
       "660676                     1                   3            Frost or ice   \n",
       "660677                     1                   2             Wet or damp   \n",
       "660678                     1                   1             Wet or damp   \n",
       "\n",
       "                 Road_Type Urban_or_Rural_Area     Weather_Conditions  \\\n",
       "0       Single carriageway               Urban     Fine no high winds   \n",
       "1       Single carriageway               Urban  Raining no high winds   \n",
       "2       Single carriageway               Urban     Fine no high winds   \n",
       "3       Single carriageway               Urban     Fine no high winds   \n",
       "4       Single carriageway               Urban     Fine no high winds   \n",
       "...                    ...                 ...                    ...   \n",
       "660674  Single carriageway               Rural     Fine no high winds   \n",
       "660675  Single carriageway               Rural     Fine no high winds   \n",
       "660676  Single carriageway               Rural     Fine no high winds   \n",
       "660677  Single carriageway               Rural     Fine no high winds   \n",
       "660678    Dual carriageway               Rural  Snowing no high winds   \n",
       "\n",
       "                                Vehicle_Type  \n",
       "0                                        Car  \n",
       "1                                        Car  \n",
       "2                      Taxi/Private hire car  \n",
       "3       Bus or coach (17 or more pass seats)  \n",
       "4                              Other vehicle  \n",
       "...                                      ...  \n",
       "660674                                   Car  \n",
       "660675                                   Car  \n",
       "660676                                   Car  \n",
       "660677                 Motorcycle over 500cc  \n",
       "660678                                   Car  \n",
       "\n",
       "[660679 rows x 14 columns]"
      ]
     },
     "execution_count": 13,
     "metadata": {},
     "output_type": "execute_result"
    }
   ],
   "source": [
    "accident"
   ]
  },
  {
   "cell_type": "code",
   "execution_count": 14,
   "id": "f2eabc9b-dde6-4ecf-92ba-4051fbe02093",
   "metadata": {},
   "outputs": [
    {
     "data": {
      "text/plain": [
       "Index                              object\n",
       "Accident_Severity                category\n",
       "Accident Date              datetime64[ns]\n",
       "Latitude                          float64\n",
       "Light_Conditions                 category\n",
       "District Area                    category\n",
       "Longitude                         float64\n",
       "Number_of_Casualties                int64\n",
       "Number_of_Vehicles                  int64\n",
       "Road_Surface_Conditions          category\n",
       "Road_Type                        category\n",
       "Urban_or_Rural_Area              category\n",
       "Weather_Conditions               category\n",
       "Vehicle_Type                     category\n",
       "dtype: object"
      ]
     },
     "execution_count": 14,
     "metadata": {},
     "output_type": "execute_result"
    }
   ],
   "source": [
    "accident.dtypes"
   ]
  },
  {
   "cell_type": "markdown",
   "id": "332bd912-306f-438b-9dc6-d92fa251db12",
   "metadata": {},
   "source": [
    "<hr>\n",
    "<h1>EXTRACTING/ADD (COLUMN) -- Date Information using pandas date time</h1>\n",
    "<hr>"
   ]
  },
  {
   "cell_type": "code",
   "execution_count": 15,
   "id": "06d7e70a-bc74-4465-b781-03e5c115dfda",
   "metadata": {},
   "outputs": [],
   "source": [
    "accident['Year'] = accident['Accident Date'].dt.year\n",
    "accident['Month'] = accident['Accident Date'].dt.month\n",
    "accident['Day'] = accident['Accident Date'].dt.day\n",
    "accident['DayOfWeek'] = accident['Accident Date'].dt.dayofweek"
   ]
  },
  {
   "cell_type": "code",
   "execution_count": 16,
   "id": "3de31174-e11c-41d6-aad6-d07519f1a6b9",
   "metadata": {},
   "outputs": [
    {
     "data": {
      "text/plain": [
       "Index                      0\n",
       "Accident_Severity          0\n",
       "Accident Date              0\n",
       "Latitude                   0\n",
       "Light_Conditions           0\n",
       "District Area              0\n",
       "Longitude                  0\n",
       "Number_of_Casualties       0\n",
       "Number_of_Vehicles         0\n",
       "Road_Surface_Conditions    0\n",
       "Road_Type                  0\n",
       "Urban_or_Rural_Area        0\n",
       "Weather_Conditions         0\n",
       "Vehicle_Type               0\n",
       "Year                       0\n",
       "Month                      0\n",
       "Day                        0\n",
       "DayOfWeek                  0\n",
       "dtype: int64"
      ]
     },
     "execution_count": 16,
     "metadata": {},
     "output_type": "execute_result"
    }
   ],
   "source": [
    "accident.isnull().sum()"
   ]
  },
  {
   "cell_type": "code",
   "execution_count": 17,
   "id": "f95f8748-3bd8-49a3-8c04-b7a33fc73d19",
   "metadata": {},
   "outputs": [
    {
     "data": {
      "text/html": [
       "<div>\n",
       "<style scoped>\n",
       "    .dataframe tbody tr th:only-of-type {\n",
       "        vertical-align: middle;\n",
       "    }\n",
       "\n",
       "    .dataframe tbody tr th {\n",
       "        vertical-align: top;\n",
       "    }\n",
       "\n",
       "    .dataframe thead th {\n",
       "        text-align: right;\n",
       "    }\n",
       "</style>\n",
       "<table border=\"1\" class=\"dataframe\">\n",
       "  <thead>\n",
       "    <tr style=\"text-align: right;\">\n",
       "      <th></th>\n",
       "      <th>Index</th>\n",
       "      <th>Accident_Severity</th>\n",
       "      <th>Accident Date</th>\n",
       "      <th>Latitude</th>\n",
       "      <th>Light_Conditions</th>\n",
       "      <th>District Area</th>\n",
       "      <th>Longitude</th>\n",
       "      <th>Number_of_Casualties</th>\n",
       "      <th>Number_of_Vehicles</th>\n",
       "      <th>Road_Surface_Conditions</th>\n",
       "      <th>Road_Type</th>\n",
       "      <th>Urban_or_Rural_Area</th>\n",
       "      <th>Weather_Conditions</th>\n",
       "      <th>Vehicle_Type</th>\n",
       "      <th>Year</th>\n",
       "      <th>Month</th>\n",
       "      <th>Day</th>\n",
       "      <th>DayOfWeek</th>\n",
       "    </tr>\n",
       "  </thead>\n",
       "  <tbody>\n",
       "    <tr>\n",
       "      <th>0</th>\n",
       "      <td>200701BS64157</td>\n",
       "      <td>Serious</td>\n",
       "      <td>2019-06-05</td>\n",
       "      <td>51.506187</td>\n",
       "      <td>Darkness - lights lit</td>\n",
       "      <td>Kensington and Chelsea</td>\n",
       "      <td>-0.209082</td>\n",
       "      <td>1</td>\n",
       "      <td>2</td>\n",
       "      <td>Dry</td>\n",
       "      <td>Single carriageway</td>\n",
       "      <td>Urban</td>\n",
       "      <td>Fine no high winds</td>\n",
       "      <td>Car</td>\n",
       "      <td>2019</td>\n",
       "      <td>6</td>\n",
       "      <td>5</td>\n",
       "      <td>2</td>\n",
       "    </tr>\n",
       "    <tr>\n",
       "      <th>1</th>\n",
       "      <td>200701BS65737</td>\n",
       "      <td>Serious</td>\n",
       "      <td>2019-07-02</td>\n",
       "      <td>51.495029</td>\n",
       "      <td>Daylight</td>\n",
       "      <td>Kensington and Chelsea</td>\n",
       "      <td>-0.173647</td>\n",
       "      <td>1</td>\n",
       "      <td>2</td>\n",
       "      <td>Wet or damp</td>\n",
       "      <td>Single carriageway</td>\n",
       "      <td>Urban</td>\n",
       "      <td>Raining no high winds</td>\n",
       "      <td>Car</td>\n",
       "      <td>2019</td>\n",
       "      <td>7</td>\n",
       "      <td>2</td>\n",
       "      <td>1</td>\n",
       "    </tr>\n",
       "    <tr>\n",
       "      <th>2</th>\n",
       "      <td>200701BS66127</td>\n",
       "      <td>Serious</td>\n",
       "      <td>2019-08-26</td>\n",
       "      <td>51.517715</td>\n",
       "      <td>Darkness - lighting unknown</td>\n",
       "      <td>Kensington and Chelsea</td>\n",
       "      <td>-0.210215</td>\n",
       "      <td>1</td>\n",
       "      <td>3</td>\n",
       "      <td>Dry</td>\n",
       "      <td>Single carriageway</td>\n",
       "      <td>Urban</td>\n",
       "      <td>Fine no high winds</td>\n",
       "      <td>Taxi/Private hire car</td>\n",
       "      <td>2019</td>\n",
       "      <td>8</td>\n",
       "      <td>26</td>\n",
       "      <td>0</td>\n",
       "    </tr>\n",
       "    <tr>\n",
       "      <th>3</th>\n",
       "      <td>200701BS66128</td>\n",
       "      <td>Serious</td>\n",
       "      <td>2019-08-16</td>\n",
       "      <td>51.495478</td>\n",
       "      <td>Daylight</td>\n",
       "      <td>Kensington and Chelsea</td>\n",
       "      <td>-0.202731</td>\n",
       "      <td>1</td>\n",
       "      <td>4</td>\n",
       "      <td>Dry</td>\n",
       "      <td>Single carriageway</td>\n",
       "      <td>Urban</td>\n",
       "      <td>Fine no high winds</td>\n",
       "      <td>Bus or coach (17 or more pass seats)</td>\n",
       "      <td>2019</td>\n",
       "      <td>8</td>\n",
       "      <td>16</td>\n",
       "      <td>4</td>\n",
       "    </tr>\n",
       "    <tr>\n",
       "      <th>4</th>\n",
       "      <td>200701BS66837</td>\n",
       "      <td>Slight</td>\n",
       "      <td>2019-09-03</td>\n",
       "      <td>51.488576</td>\n",
       "      <td>Darkness - lights lit</td>\n",
       "      <td>Kensington and Chelsea</td>\n",
       "      <td>-0.192487</td>\n",
       "      <td>1</td>\n",
       "      <td>2</td>\n",
       "      <td>Dry</td>\n",
       "      <td>Single carriageway</td>\n",
       "      <td>Urban</td>\n",
       "      <td>Fine no high winds</td>\n",
       "      <td>Other vehicle</td>\n",
       "      <td>2019</td>\n",
       "      <td>9</td>\n",
       "      <td>3</td>\n",
       "      <td>1</td>\n",
       "    </tr>\n",
       "    <tr>\n",
       "      <th>...</th>\n",
       "      <td>...</td>\n",
       "      <td>...</td>\n",
       "      <td>...</td>\n",
       "      <td>...</td>\n",
       "      <td>...</td>\n",
       "      <td>...</td>\n",
       "      <td>...</td>\n",
       "      <td>...</td>\n",
       "      <td>...</td>\n",
       "      <td>...</td>\n",
       "      <td>...</td>\n",
       "      <td>...</td>\n",
       "      <td>...</td>\n",
       "      <td>...</td>\n",
       "      <td>...</td>\n",
       "      <td>...</td>\n",
       "      <td>...</td>\n",
       "      <td>...</td>\n",
       "    </tr>\n",
       "    <tr>\n",
       "      <th>660674</th>\n",
       "      <td>201091NM01760</td>\n",
       "      <td>Slight</td>\n",
       "      <td>2022-02-18</td>\n",
       "      <td>57.374005</td>\n",
       "      <td>Daylight</td>\n",
       "      <td>Highland</td>\n",
       "      <td>-3.467828</td>\n",
       "      <td>2</td>\n",
       "      <td>1</td>\n",
       "      <td>Dry</td>\n",
       "      <td>Single carriageway</td>\n",
       "      <td>Rural</td>\n",
       "      <td>Fine no high winds</td>\n",
       "      <td>Car</td>\n",
       "      <td>2022</td>\n",
       "      <td>2</td>\n",
       "      <td>18</td>\n",
       "      <td>4</td>\n",
       "    </tr>\n",
       "    <tr>\n",
       "      <th>660675</th>\n",
       "      <td>201091NM01881</td>\n",
       "      <td>Slight</td>\n",
       "      <td>2022-02-21</td>\n",
       "      <td>57.232273</td>\n",
       "      <td>Darkness - no lighting</td>\n",
       "      <td>Highland</td>\n",
       "      <td>-3.809281</td>\n",
       "      <td>1</td>\n",
       "      <td>1</td>\n",
       "      <td>Frost or ice</td>\n",
       "      <td>Single carriageway</td>\n",
       "      <td>Rural</td>\n",
       "      <td>Fine no high winds</td>\n",
       "      <td>Car</td>\n",
       "      <td>2022</td>\n",
       "      <td>2</td>\n",
       "      <td>21</td>\n",
       "      <td>0</td>\n",
       "    </tr>\n",
       "    <tr>\n",
       "      <th>660676</th>\n",
       "      <td>201091NM01935</td>\n",
       "      <td>Slight</td>\n",
       "      <td>2022-02-23</td>\n",
       "      <td>57.585044</td>\n",
       "      <td>Daylight</td>\n",
       "      <td>Highland</td>\n",
       "      <td>-3.862727</td>\n",
       "      <td>1</td>\n",
       "      <td>3</td>\n",
       "      <td>Frost or ice</td>\n",
       "      <td>Single carriageway</td>\n",
       "      <td>Rural</td>\n",
       "      <td>Fine no high winds</td>\n",
       "      <td>Car</td>\n",
       "      <td>2022</td>\n",
       "      <td>2</td>\n",
       "      <td>23</td>\n",
       "      <td>2</td>\n",
       "    </tr>\n",
       "    <tr>\n",
       "      <th>660677</th>\n",
       "      <td>201091NM01964</td>\n",
       "      <td>Serious</td>\n",
       "      <td>2022-02-23</td>\n",
       "      <td>57.214898</td>\n",
       "      <td>Darkness - no lighting</td>\n",
       "      <td>Highland</td>\n",
       "      <td>-3.823997</td>\n",
       "      <td>1</td>\n",
       "      <td>2</td>\n",
       "      <td>Wet or damp</td>\n",
       "      <td>Single carriageway</td>\n",
       "      <td>Rural</td>\n",
       "      <td>Fine no high winds</td>\n",
       "      <td>Motorcycle over 500cc</td>\n",
       "      <td>2022</td>\n",
       "      <td>2</td>\n",
       "      <td>23</td>\n",
       "      <td>2</td>\n",
       "    </tr>\n",
       "    <tr>\n",
       "      <th>660678</th>\n",
       "      <td>201091NM02142</td>\n",
       "      <td>Serious</td>\n",
       "      <td>2022-02-28</td>\n",
       "      <td>57.575210</td>\n",
       "      <td>Daylight</td>\n",
       "      <td>Highland</td>\n",
       "      <td>-3.895673</td>\n",
       "      <td>1</td>\n",
       "      <td>1</td>\n",
       "      <td>Wet or damp</td>\n",
       "      <td>Dual carriageway</td>\n",
       "      <td>Rural</td>\n",
       "      <td>Snowing no high winds</td>\n",
       "      <td>Car</td>\n",
       "      <td>2022</td>\n",
       "      <td>2</td>\n",
       "      <td>28</td>\n",
       "      <td>0</td>\n",
       "    </tr>\n",
       "  </tbody>\n",
       "</table>\n",
       "<p>660679 rows × 18 columns</p>\n",
       "</div>"
      ],
      "text/plain": [
       "                Index Accident_Severity Accident Date   Latitude  \\\n",
       "0       200701BS64157           Serious    2019-06-05  51.506187   \n",
       "1       200701BS65737           Serious    2019-07-02  51.495029   \n",
       "2       200701BS66127           Serious    2019-08-26  51.517715   \n",
       "3       200701BS66128           Serious    2019-08-16  51.495478   \n",
       "4       200701BS66837            Slight    2019-09-03  51.488576   \n",
       "...               ...               ...           ...        ...   \n",
       "660674  201091NM01760            Slight    2022-02-18  57.374005   \n",
       "660675  201091NM01881            Slight    2022-02-21  57.232273   \n",
       "660676  201091NM01935            Slight    2022-02-23  57.585044   \n",
       "660677  201091NM01964           Serious    2022-02-23  57.214898   \n",
       "660678  201091NM02142           Serious    2022-02-28  57.575210   \n",
       "\n",
       "                   Light_Conditions           District Area  Longitude  \\\n",
       "0             Darkness - lights lit  Kensington and Chelsea  -0.209082   \n",
       "1                          Daylight  Kensington and Chelsea  -0.173647   \n",
       "2       Darkness - lighting unknown  Kensington and Chelsea  -0.210215   \n",
       "3                          Daylight  Kensington and Chelsea  -0.202731   \n",
       "4             Darkness - lights lit  Kensington and Chelsea  -0.192487   \n",
       "...                             ...                     ...        ...   \n",
       "660674                     Daylight                Highland  -3.467828   \n",
       "660675       Darkness - no lighting                Highland  -3.809281   \n",
       "660676                     Daylight                Highland  -3.862727   \n",
       "660677       Darkness - no lighting                Highland  -3.823997   \n",
       "660678                     Daylight                Highland  -3.895673   \n",
       "\n",
       "        Number_of_Casualties  Number_of_Vehicles Road_Surface_Conditions  \\\n",
       "0                          1                   2                     Dry   \n",
       "1                          1                   2             Wet or damp   \n",
       "2                          1                   3                     Dry   \n",
       "3                          1                   4                     Dry   \n",
       "4                          1                   2                     Dry   \n",
       "...                      ...                 ...                     ...   \n",
       "660674                     2                   1                     Dry   \n",
       "660675                     1                   1            Frost or ice   \n",
       "660676                     1                   3            Frost or ice   \n",
       "660677                     1                   2             Wet or damp   \n",
       "660678                     1                   1             Wet or damp   \n",
       "\n",
       "                 Road_Type Urban_or_Rural_Area     Weather_Conditions  \\\n",
       "0       Single carriageway               Urban     Fine no high winds   \n",
       "1       Single carriageway               Urban  Raining no high winds   \n",
       "2       Single carriageway               Urban     Fine no high winds   \n",
       "3       Single carriageway               Urban     Fine no high winds   \n",
       "4       Single carriageway               Urban     Fine no high winds   \n",
       "...                    ...                 ...                    ...   \n",
       "660674  Single carriageway               Rural     Fine no high winds   \n",
       "660675  Single carriageway               Rural     Fine no high winds   \n",
       "660676  Single carriageway               Rural     Fine no high winds   \n",
       "660677  Single carriageway               Rural     Fine no high winds   \n",
       "660678    Dual carriageway               Rural  Snowing no high winds   \n",
       "\n",
       "                                Vehicle_Type  Year  Month  Day  DayOfWeek  \n",
       "0                                        Car  2019      6    5          2  \n",
       "1                                        Car  2019      7    2          1  \n",
       "2                      Taxi/Private hire car  2019      8   26          0  \n",
       "3       Bus or coach (17 or more pass seats)  2019      8   16          4  \n",
       "4                              Other vehicle  2019      9    3          1  \n",
       "...                                      ...   ...    ...  ...        ...  \n",
       "660674                                   Car  2022      2   18          4  \n",
       "660675                                   Car  2022      2   21          0  \n",
       "660676                                   Car  2022      2   23          2  \n",
       "660677                 Motorcycle over 500cc  2022      2   23          2  \n",
       "660678                                   Car  2022      2   28          0  \n",
       "\n",
       "[660679 rows x 18 columns]"
      ]
     },
     "execution_count": 17,
     "metadata": {},
     "output_type": "execute_result"
    }
   ],
   "source": [
    "accident"
   ]
  },
  {
   "cell_type": "markdown",
   "id": "dbecf4bf-3c4e-4694-a2d0-17c2fe863f1b",
   "metadata": {},
   "source": [
    "accident.info()"
   ]
  },
  {
   "cell_type": "markdown",
   "id": "8e835e22-e89d-4129-b1e3-3809a2b43c7d",
   "metadata": {},
   "source": [
    "<h2> Univariate Analysis on accidents that happened in 2019 </h2>"
   ]
  },
  {
   "cell_type": "code",
   "execution_count": 18,
   "id": "191576a8-f3b4-4ff2-9e84-335dbb05eff5",
   "metadata": {},
   "outputs": [],
   "source": [
    "df_2019 = accident[accident['Year'] == 2019]"
   ]
  },
  {
   "cell_type": "code",
   "execution_count": 19,
   "id": "ac1ceb08-4b32-426d-852f-eb119ae44ec2",
   "metadata": {},
   "outputs": [
    {
     "name": "stdout",
     "output_type": "stream",
     "text": [
      "Total number of accident in 2019 is 182115\n"
     ]
    },
    {
     "data": {
      "text/plain": [
       "Light_Conditions\n",
       "Daylight                       133042\n",
       "Darkness - lights lit           35769\n",
       "Darkness - no lighting          10842\n",
       "Darkness - lighting unknown      1768\n",
       "Darkness - lights unlit           694\n",
       "Name: count, dtype: int64"
      ]
     },
     "execution_count": 19,
     "metadata": {},
     "output_type": "execute_result"
    }
   ],
   "source": [
    "print(f\"Total number of accident in 2019 is {df_2019['Light_Conditions'].value_counts().sum()}\")\n",
    "df_2019['Light_Conditions'].value_counts()"
   ]
  },
  {
   "cell_type": "markdown",
   "id": "eb5d7c5a-507a-4321-999f-4576524fab5b",
   "metadata": {},
   "source": [
    "<hr>\n",
    "<h1 style = 'text-align:center'>ACTIVITY 2<br>UK ROAD ACCIDENT DATA ANALYTICS PROJECT</h1>\n",
    "<h3 style = 'text-align:center' 'color:gray'>25 Insights</h3>\n",
    "<hr>"
   ]
  },
  {
   "cell_type": "markdown",
   "id": "62a90ed9-4e7d-4511-b43b-e464219c1d45",
   "metadata": {},
   "source": [
    "<h2 style=\"color:gray\"> Q1: Which day of the week has the most fatal accidents? </h2>"
   ]
  },
  {
   "cell_type": "code",
   "execution_count": 20,
   "id": "52806f9d-b4e3-45be-b640-e404515efcec",
   "metadata": {},
   "outputs": [],
   "source": [
    "df_fatal = accident[accident['Accident_Severity'] == 'Fatal']"
   ]
  },
  {
   "cell_type": "code",
   "execution_count": 21,
   "id": "efb72f32-336c-4a5c-a95c-e20143d1cd6f",
   "metadata": {},
   "outputs": [
    {
     "name": "stdout",
     "output_type": "stream",
     "text": [
      "Total number of fatal accident is 8661\n"
     ]
    },
    {
     "data": {
      "text/plain": [
       "DayOfWeek\n",
       "6    1522\n",
       "0    1385\n",
       "5    1326\n",
       "4    1113\n",
       "2    1113\n",
       "1    1105\n",
       "3    1097\n",
       "Name: count, dtype: int64"
      ]
     },
     "execution_count": 21,
     "metadata": {},
     "output_type": "execute_result"
    }
   ],
   "source": [
    "print(f\"Total number of fatal accident is {df_fatal['DayOfWeek'].value_counts().sum()}\")\n",
    "df_fatal['DayOfWeek'].value_counts()"
   ]
  },
  {
   "cell_type": "markdown",
   "id": "d2ea09b6-d5cd-4658-90db-4d5dc2c5e9b6",
   "metadata": {},
   "source": [
    "<h3 style=\"color:blue\">INSIGHTS: Fatal accidents peak on weekends, with Saturday (18%) and Sunday (16%) leading, showing leisure travel and risky driving behaviors contribute more.</h3>\n",
    "<hr> "
   ]
  },
  {
   "cell_type": "markdown",
   "id": "b8503554-3719-465c-b040-f4259395dd4b",
   "metadata": {},
   "source": [
    "<h2 style=\"color:gray\"> Q2: What vehicle types are most commonly involved? </h2>"
   ]
  },
  {
   "cell_type": "code",
   "execution_count": 22,
   "id": "448b5bc4-d9ae-4f0f-9f46-8a6c13be58d2",
   "metadata": {},
   "outputs": [
    {
     "data": {
      "text/plain": [
       "Vehicle_Type\n",
       "Car                                      497992\n",
       "Van / Goods 3.5 tonnes mgw or under       34160\n",
       "Bus or coach (17 or more pass seats)      25878\n",
       "Motorcycle over 500cc                     25657\n",
       "Goods 7.5 tonnes mgw and over             17307\n",
       "Motorcycle 125cc and under                15269\n",
       "Taxi/Private hire car                     13294\n",
       "Motorcycle over 125cc and up to 500cc      7656\n",
       "Motorcycle 50cc and under                  7603\n",
       "Goods over 3.5t. and under 7.5t            6096\n",
       "Other vehicle                              5637\n",
       "Minibus (8 - 16 passenger seats)           1976\n",
       "Agricultural vehicle                       1947\n",
       "Pedal cycle                                 197\n",
       "Data missing or out of range                  6\n",
       "Ridden horse                                  4\n",
       "Name: count, dtype: int64"
      ]
     },
     "execution_count": 22,
     "metadata": {},
     "output_type": "execute_result"
    }
   ],
   "source": [
    "accident['Vehicle_Type'].value_counts()"
   ]
  },
  {
   "cell_type": "markdown",
   "id": "070035db-d270-40ae-afdd-9cc1be19e841",
   "metadata": {},
   "source": [
    "<h3 style=\"color:blue\">INSIGHTS: It shows that cars dominate accident records, followed by taxis and motorcycles. Motorcycles have higher risk despite fewer numbers.</h3>\n",
    "<hr> "
   ]
  },
  {
   "cell_type": "markdown",
   "id": "d3c43779-5a61-4f03-aa7a-ac795898722b",
   "metadata": {},
   "source": [
    "<h2 style=\"color:gray\"> Q3: Do rural vs urban areas differ in casualty numbers?</h2>"
   ]
  },
  {
   "cell_type": "code",
   "execution_count": 23,
   "id": "1cc9b3b9-c76e-4913-b958-dc435a38b36d",
   "metadata": {},
   "outputs": [
    {
     "data": {
      "text/plain": [
       "Urban_or_Rural_Area\n",
       "Rural          1.479204\n",
       "Unallocated    1.181818\n",
       "Urban          1.287807\n",
       "Name: Number_of_Casualties, dtype: float64"
      ]
     },
     "execution_count": 23,
     "metadata": {},
     "output_type": "execute_result"
    }
   ],
   "source": [
    "accident.groupby('Urban_or_Rural_Area')['Number_of_Casualties'].mean()"
   ]
  },
  {
   "cell_type": "markdown",
   "id": "6ae092e4-94b4-420f-beb5-60e069d450bb",
   "metadata": {},
   "source": [
    "<h3 style=\"color:blue\">INSIGHTS: Rural accidents often involve more casualties per incident, likely due to higher speeds and delayed response.</h3>\n",
    "<hr> "
   ]
  },
  {
   "cell_type": "markdown",
   "id": "00c6ae37-acbe-4d06-a4d0-687abd3476a5",
   "metadata": {},
   "source": [
    "<h2 style=\"color:gray\"> Q4: What road area has the higher number of accidents categorized in Rural and Urban Areas? </h2>"
   ]
  },
  {
   "cell_type": "code",
   "execution_count": 24,
   "id": "63cae280-5a5f-461b-acdb-3341e7d8b649",
   "metadata": {},
   "outputs": [
    {
     "data": {
      "text/html": [
       "<div>\n",
       "<style scoped>\n",
       "    .dataframe tbody tr th:only-of-type {\n",
       "        vertical-align: middle;\n",
       "    }\n",
       "\n",
       "    .dataframe tbody tr th {\n",
       "        vertical-align: top;\n",
       "    }\n",
       "\n",
       "    .dataframe thead th {\n",
       "        text-align: right;\n",
       "    }\n",
       "</style>\n",
       "<table border=\"1\" class=\"dataframe\">\n",
       "  <thead>\n",
       "    <tr style=\"text-align: right;\">\n",
       "      <th>Urban_or_Rural_Area</th>\n",
       "      <th>Rural</th>\n",
       "      <th>Unallocated</th>\n",
       "      <th>Urban</th>\n",
       "    </tr>\n",
       "    <tr>\n",
       "      <th>Road_Type</th>\n",
       "      <th></th>\n",
       "      <th></th>\n",
       "      <th></th>\n",
       "    </tr>\n",
       "  </thead>\n",
       "  <tbody>\n",
       "    <tr>\n",
       "      <th>Dual carriageway</th>\n",
       "      <td>48715</td>\n",
       "      <td>1</td>\n",
       "      <td>50708</td>\n",
       "    </tr>\n",
       "    <tr>\n",
       "      <th>One way street</th>\n",
       "      <td>1193</td>\n",
       "      <td>0</td>\n",
       "      <td>12366</td>\n",
       "    </tr>\n",
       "    <tr>\n",
       "      <th>Roundabout</th>\n",
       "      <td>15545</td>\n",
       "      <td>1</td>\n",
       "      <td>28446</td>\n",
       "    </tr>\n",
       "    <tr>\n",
       "      <th>Single carriageway</th>\n",
       "      <td>169243</td>\n",
       "      <td>9</td>\n",
       "      <td>327411</td>\n",
       "    </tr>\n",
       "    <tr>\n",
       "      <th>Slip road</th>\n",
       "      <td>4294</td>\n",
       "      <td>0</td>\n",
       "      <td>2747</td>\n",
       "    </tr>\n",
       "  </tbody>\n",
       "</table>\n",
       "</div>"
      ],
      "text/plain": [
       "Urban_or_Rural_Area   Rural  Unallocated   Urban\n",
       "Road_Type                                       \n",
       "Dual carriageway      48715            1   50708\n",
       "One way street         1193            0   12366\n",
       "Roundabout            15545            1   28446\n",
       "Single carriageway   169243            9  327411\n",
       "Slip road              4294            0    2747"
      ]
     },
     "execution_count": 24,
     "metadata": {},
     "output_type": "execute_result"
    }
   ],
   "source": [
    "accident_per_area_road = accident.groupby(['Urban_or_Rural_Area', 'Road_Type']).size().unstack().T\n",
    "accident_per_area_road"
   ]
  },
  {
   "cell_type": "markdown",
   "id": "9eba72c3-2bd7-4b38-8d06-dbf8cdf846a2",
   "metadata": {},
   "source": [
    "<h3 style=\"color:blue\">INSIGHTS: Urban areas had 421,678 accidents (65%), while rural areas had 238,990 (35%), showing that urban roads face more accidents due to heavier traffic and congestion.</h3>\n",
    "<hr> "
   ]
  },
  {
   "cell_type": "markdown",
   "id": "1712ed7d-940c-49be-922f-899bb5030aee",
   "metadata": {},
   "source": [
    "<h2 style=\"color:gray\"> Q5: Which light condition records the most accidents?</h2>"
   ]
  },
  {
   "cell_type": "code",
   "execution_count": 25,
   "id": "93ab6a7f-2959-41db-a77d-01900c367567",
   "metadata": {},
   "outputs": [
    {
     "data": {
      "text/plain": [
       "Light_Conditions\n",
       "Daylight                       484880\n",
       "Darkness - lights lit          129335\n",
       "Darkness - no lighting          37437\n",
       "Darkness - lighting unknown      6484\n",
       "Darkness - lights unlit          2543\n",
       "Name: count, dtype: int64"
      ]
     },
     "execution_count": 25,
     "metadata": {},
     "output_type": "execute_result"
    }
   ],
   "source": [
    "accident['Light_Conditions'].value_counts()"
   ]
  },
  {
   "cell_type": "markdown",
   "id": "8411e2e5-866b-4761-a4d9-eeb22c447a0d",
   "metadata": {},
   "source": [
    "<h3 style=\"color:blue\">INSIGHTS: Daylight (73%) has most accidents, meaning traffic density, not poor visibility, is key.</h3>\n",
    "<hr> "
   ]
  },
  {
   "cell_type": "markdown",
   "id": "100a2bfe-5f23-4b30-a1d6-4e6ce7d38143",
   "metadata": {},
   "source": [
    "<h2 style=\"color:gray\"> Q6: What weather and light conditions results in the highest number of casualties?</h2>"
   ]
  },
  {
   "cell_type": "code",
   "execution_count": 26,
   "id": "2d4aac43-7bf8-479b-891c-8084078b3376",
   "metadata": {},
   "outputs": [
    {
     "data": {
      "text/html": [
       "<div>\n",
       "<style scoped>\n",
       "    .dataframe tbody tr th:only-of-type {\n",
       "        vertical-align: middle;\n",
       "    }\n",
       "\n",
       "    .dataframe tbody tr th {\n",
       "        vertical-align: top;\n",
       "    }\n",
       "\n",
       "    .dataframe thead th {\n",
       "        text-align: right;\n",
       "    }\n",
       "</style>\n",
       "<table border=\"1\" class=\"dataframe\">\n",
       "  <thead>\n",
       "    <tr style=\"text-align: right;\">\n",
       "      <th>Light_Conditions</th>\n",
       "      <th>Darkness - lighting unknown</th>\n",
       "      <th>Darkness - lights lit</th>\n",
       "      <th>Darkness - lights unlit</th>\n",
       "      <th>Darkness - no lighting</th>\n",
       "      <th>Daylight</th>\n",
       "    </tr>\n",
       "    <tr>\n",
       "      <th>Weather_Conditions</th>\n",
       "      <th></th>\n",
       "      <th></th>\n",
       "      <th></th>\n",
       "      <th></th>\n",
       "      <th></th>\n",
       "    </tr>\n",
       "  </thead>\n",
       "  <tbody>\n",
       "    <tr>\n",
       "      <th>Fine + high winds</th>\n",
       "      <td>82</td>\n",
       "      <td>2543</td>\n",
       "      <td>75</td>\n",
       "      <td>1213</td>\n",
       "      <td>7943</td>\n",
       "    </tr>\n",
       "    <tr>\n",
       "      <th>Fine no high winds</th>\n",
       "      <td>6971</td>\n",
       "      <td>128194</td>\n",
       "      <td>2306</td>\n",
       "      <td>39324</td>\n",
       "      <td>544080</td>\n",
       "    </tr>\n",
       "    <tr>\n",
       "      <th>Fog or mist</th>\n",
       "      <td>89</td>\n",
       "      <td>1323</td>\n",
       "      <td>48</td>\n",
       "      <td>1267</td>\n",
       "      <td>2399</td>\n",
       "    </tr>\n",
       "    <tr>\n",
       "      <th>Other</th>\n",
       "      <td>234</td>\n",
       "      <td>6535</td>\n",
       "      <td>177</td>\n",
       "      <td>2824</td>\n",
       "      <td>13466</td>\n",
       "    </tr>\n",
       "    <tr>\n",
       "      <th>Raining + high winds</th>\n",
       "      <td>147</td>\n",
       "      <td>4185</td>\n",
       "      <td>115</td>\n",
       "      <td>2173</td>\n",
       "      <td>7001</td>\n",
       "    </tr>\n",
       "    <tr>\n",
       "      <th>Raining no high winds</th>\n",
       "      <td>808</td>\n",
       "      <td>31563</td>\n",
       "      <td>620</td>\n",
       "      <td>9538</td>\n",
       "      <td>69700</td>\n",
       "    </tr>\n",
       "    <tr>\n",
       "      <th>Snowing + high winds</th>\n",
       "      <td>21</td>\n",
       "      <td>354</td>\n",
       "      <td>7</td>\n",
       "      <td>247</td>\n",
       "      <td>626</td>\n",
       "    </tr>\n",
       "    <tr>\n",
       "      <th>Snowing no high winds</th>\n",
       "      <td>119</td>\n",
       "      <td>2411</td>\n",
       "      <td>37</td>\n",
       "      <td>1129</td>\n",
       "      <td>4674</td>\n",
       "    </tr>\n",
       "  </tbody>\n",
       "</table>\n",
       "</div>"
      ],
      "text/plain": [
       "Light_Conditions       Darkness - lighting unknown  Darkness - lights lit  \\\n",
       "Weather_Conditions                                                          \n",
       "Fine + high winds                               82                   2543   \n",
       "Fine no high winds                            6971                 128194   \n",
       "Fog or mist                                     89                   1323   \n",
       "Other                                          234                   6535   \n",
       "Raining + high winds                           147                   4185   \n",
       "Raining no high winds                          808                  31563   \n",
       "Snowing + high winds                            21                    354   \n",
       "Snowing no high winds                          119                   2411   \n",
       "\n",
       "Light_Conditions       Darkness - lights unlit  Darkness - no lighting  \\\n",
       "Weather_Conditions                                                       \n",
       "Fine + high winds                           75                    1213   \n",
       "Fine no high winds                        2306                   39324   \n",
       "Fog or mist                                 48                    1267   \n",
       "Other                                      177                    2824   \n",
       "Raining + high winds                       115                    2173   \n",
       "Raining no high winds                      620                    9538   \n",
       "Snowing + high winds                         7                     247   \n",
       "Snowing no high winds                       37                    1129   \n",
       "\n",
       "Light_Conditions       Daylight  \n",
       "Weather_Conditions               \n",
       "Fine + high winds          7943  \n",
       "Fine no high winds       544080  \n",
       "Fog or mist                2399  \n",
       "Other                     13466  \n",
       "Raining + high winds       7001  \n",
       "Raining no high winds     69700  \n",
       "Snowing + high winds        626  \n",
       "Snowing no high winds      4674  "
      ]
     },
     "execution_count": 26,
     "metadata": {},
     "output_type": "execute_result"
    }
   ],
   "source": [
    "casualties_by_weather_light = accident.groupby(['Weather_Conditions', 'Light_Conditions'])['Number_of_Casualties'].sum().unstack()\n",
    "casualties_by_weather_light"
   ]
  },
  {
   "cell_type": "markdown",
   "id": "fc334ae5-5b2b-44fa-bd38-68aae5079d7f",
   "metadata": {},
   "source": [
    "<h3 style=\"color:blue\">INSIGHTS: The majority of casualties happened in daylight with fine weather and no high winds, totaling 544,080 cases (66% of all accidents).</h3>\n",
    "<hr> "
   ]
  },
  {
   "cell_type": "code",
   "execution_count": null,
   "id": "5170ed06-d19b-4794-b0a3-b5880458d59a",
   "metadata": {},
   "outputs": [],
   "source": []
  },
  {
   "cell_type": "markdown",
   "id": "77265e8c-2b15-49ce-ad63-fb28775d7153",
   "metadata": {},
   "source": [
    "<h2 style=\"color:gray\"> Q7: Which road surface and weather conditions result in the highest number of casualties? </h2>"
   ]
  },
  {
   "cell_type": "code",
   "execution_count": 27,
   "id": "c852bec0-af4b-48cd-a793-bac95ace3a0d",
   "metadata": {},
   "outputs": [
    {
     "data": {
      "text/html": [
       "<div>\n",
       "<style scoped>\n",
       "    .dataframe tbody tr th:only-of-type {\n",
       "        vertical-align: middle;\n",
       "    }\n",
       "\n",
       "    .dataframe tbody tr th {\n",
       "        vertical-align: top;\n",
       "    }\n",
       "\n",
       "    .dataframe thead th {\n",
       "        text-align: right;\n",
       "    }\n",
       "</style>\n",
       "<table border=\"1\" class=\"dataframe\">\n",
       "  <thead>\n",
       "    <tr style=\"text-align: right;\">\n",
       "      <th>Weather_Conditions</th>\n",
       "      <th>Fine + high winds</th>\n",
       "      <th>Fine no high winds</th>\n",
       "      <th>Fog or mist</th>\n",
       "      <th>Other</th>\n",
       "      <th>Raining + high winds</th>\n",
       "      <th>Raining no high winds</th>\n",
       "      <th>Snowing + high winds</th>\n",
       "      <th>Snowing no high winds</th>\n",
       "    </tr>\n",
       "    <tr>\n",
       "      <th>Road_Surface_Conditions</th>\n",
       "      <th></th>\n",
       "      <th></th>\n",
       "      <th></th>\n",
       "      <th></th>\n",
       "      <th></th>\n",
       "      <th></th>\n",
       "      <th></th>\n",
       "      <th></th>\n",
       "    </tr>\n",
       "  </thead>\n",
       "  <tbody>\n",
       "    <tr>\n",
       "      <th>Dry</th>\n",
       "      <td>6897</td>\n",
       "      <td>586749</td>\n",
       "      <td>641</td>\n",
       "      <td>3378</td>\n",
       "      <td>103</td>\n",
       "      <td>763</td>\n",
       "      <td>10</td>\n",
       "      <td>65</td>\n",
       "    </tr>\n",
       "    <tr>\n",
       "      <th>Flood over 3cm. deep</th>\n",
       "      <td>25</td>\n",
       "      <td>190</td>\n",
       "      <td>4</td>\n",
       "      <td>29</td>\n",
       "      <td>440</td>\n",
       "      <td>818</td>\n",
       "      <td>3</td>\n",
       "      <td>12</td>\n",
       "    </tr>\n",
       "    <tr>\n",
       "      <th>Frost or ice</th>\n",
       "      <td>256</td>\n",
       "      <td>14607</td>\n",
       "      <td>987</td>\n",
       "      <td>6392</td>\n",
       "      <td>65</td>\n",
       "      <td>588</td>\n",
       "      <td>222</td>\n",
       "      <td>1859</td>\n",
       "    </tr>\n",
       "    <tr>\n",
       "      <th>Snow</th>\n",
       "      <td>26</td>\n",
       "      <td>1546</td>\n",
       "      <td>36</td>\n",
       "      <td>569</td>\n",
       "      <td>18</td>\n",
       "      <td>153</td>\n",
       "      <td>777</td>\n",
       "      <td>4883</td>\n",
       "    </tr>\n",
       "    <tr>\n",
       "      <th>Wet or damp</th>\n",
       "      <td>4652</td>\n",
       "      <td>117783</td>\n",
       "      <td>3458</td>\n",
       "      <td>12868</td>\n",
       "      <td>12995</td>\n",
       "      <td>109907</td>\n",
       "      <td>243</td>\n",
       "      <td>1551</td>\n",
       "    </tr>\n",
       "  </tbody>\n",
       "</table>\n",
       "</div>"
      ],
      "text/plain": [
       "Weather_Conditions       Fine + high winds  Fine no high winds  Fog or mist  \\\n",
       "Road_Surface_Conditions                                                       \n",
       "Dry                                   6897              586749          641   \n",
       "Flood over 3cm. deep                    25                 190            4   \n",
       "Frost or ice                           256               14607          987   \n",
       "Snow                                    26                1546           36   \n",
       "Wet or damp                           4652              117783         3458   \n",
       "\n",
       "Weather_Conditions       Other  Raining + high winds  Raining no high winds  \\\n",
       "Road_Surface_Conditions                                                       \n",
       "Dry                       3378                   103                    763   \n",
       "Flood over 3cm. deep        29                   440                    818   \n",
       "Frost or ice              6392                    65                    588   \n",
       "Snow                       569                    18                    153   \n",
       "Wet or damp              12868                 12995                 109907   \n",
       "\n",
       "Weather_Conditions       Snowing + high winds  Snowing no high winds  \n",
       "Road_Surface_Conditions                                               \n",
       "Dry                                        10                     65  \n",
       "Flood over 3cm. deep                        3                     12  \n",
       "Frost or ice                              222                   1859  \n",
       "Snow                                      777                   4883  \n",
       "Wet or damp                               243                   1551  "
      ]
     },
     "execution_count": 27,
     "metadata": {},
     "output_type": "execute_result"
    }
   ],
   "source": [
    "casualties_by_surface_weather = accident.groupby(['Road_Surface_Conditions','Weather_Conditions'])['Number_of_Casualties'].sum().unstack()\n",
    "casualties_by_surface_weather"
   ]
  },
  {
   "cell_type": "markdown",
   "id": "5e526a4f-bec2-444d-b452-5e4b6a60749d",
   "metadata": {},
   "source": [
    "<h3 style=\"color:blue\">INSIGHTS: Most casualties occurred on dry roads during fine weather without high winds, totaling over 500,000 cases (60% of all accidents). This shows that accidents happen mostly in safe surface and weather conditions, proving driver behavior is the biggest factor./h3>\n",
    "<hr> "
   ]
  },
  {
   "cell_type": "markdown",
   "id": "2e86f57f-9ee3-41bf-8d7f-af0e42167100",
   "metadata": {},
   "source": [
    "<h2 style=\"color:gray\"> Q8: Which type of vehicle is most involved in accidents under different weather conditions? </h2>"
   ]
  },
  {
   "cell_type": "code",
   "execution_count": 28,
   "id": "ab140909-305c-44c4-bab4-c7c8253ed377",
   "metadata": {},
   "outputs": [
    {
     "data": {
      "text/html": [
       "<div>\n",
       "<style scoped>\n",
       "    .dataframe tbody tr th:only-of-type {\n",
       "        vertical-align: middle;\n",
       "    }\n",
       "\n",
       "    .dataframe tbody tr th {\n",
       "        vertical-align: top;\n",
       "    }\n",
       "\n",
       "    .dataframe thead th {\n",
       "        text-align: right;\n",
       "    }\n",
       "</style>\n",
       "<table border=\"1\" class=\"dataframe\">\n",
       "  <thead>\n",
       "    <tr style=\"text-align: right;\">\n",
       "      <th>Weather_Conditions</th>\n",
       "      <th>Fine + high winds</th>\n",
       "      <th>Fine no high winds</th>\n",
       "      <th>Fog or mist</th>\n",
       "      <th>Other</th>\n",
       "      <th>Raining + high winds</th>\n",
       "      <th>Raining no high winds</th>\n",
       "      <th>Snowing + high winds</th>\n",
       "      <th>Snowing no high winds</th>\n",
       "    </tr>\n",
       "    <tr>\n",
       "      <th>Vehicle_Type</th>\n",
       "      <th></th>\n",
       "      <th></th>\n",
       "      <th></th>\n",
       "      <th></th>\n",
       "      <th></th>\n",
       "      <th></th>\n",
       "      <th></th>\n",
       "      <th></th>\n",
       "    </tr>\n",
       "  </thead>\n",
       "  <tbody>\n",
       "    <tr>\n",
       "      <th>Agricultural vehicle</th>\n",
       "      <td>24</td>\n",
       "      <td>2080</td>\n",
       "      <td>12</td>\n",
       "      <td>74</td>\n",
       "      <td>49</td>\n",
       "      <td>343</td>\n",
       "      <td>3</td>\n",
       "      <td>28</td>\n",
       "    </tr>\n",
       "    <tr>\n",
       "      <th>Bus or coach (17 or more pass seats)</th>\n",
       "      <td>472</td>\n",
       "      <td>28077</td>\n",
       "      <td>197</td>\n",
       "      <td>840</td>\n",
       "      <td>531</td>\n",
       "      <td>4451</td>\n",
       "      <td>48</td>\n",
       "      <td>299</td>\n",
       "    </tr>\n",
       "    <tr>\n",
       "      <th>Car</th>\n",
       "      <td>8993</td>\n",
       "      <td>544129</td>\n",
       "      <td>3883</td>\n",
       "      <td>17603</td>\n",
       "      <td>10226</td>\n",
       "      <td>84521</td>\n",
       "      <td>960</td>\n",
       "      <td>6377</td>\n",
       "    </tr>\n",
       "    <tr>\n",
       "      <th>Data missing or out of range</th>\n",
       "      <td>2</td>\n",
       "      <td>7</td>\n",
       "      <td>0</td>\n",
       "      <td>0</td>\n",
       "      <td>0</td>\n",
       "      <td>0</td>\n",
       "      <td>0</td>\n",
       "      <td>0</td>\n",
       "    </tr>\n",
       "    <tr>\n",
       "      <th>Goods 7.5 tonnes mgw and over</th>\n",
       "      <td>341</td>\n",
       "      <td>18751</td>\n",
       "      <td>135</td>\n",
       "      <td>594</td>\n",
       "      <td>383</td>\n",
       "      <td>2952</td>\n",
       "      <td>39</td>\n",
       "      <td>202</td>\n",
       "    </tr>\n",
       "    <tr>\n",
       "      <th>Goods over 3.5t. and under 7.5t</th>\n",
       "      <td>130</td>\n",
       "      <td>6708</td>\n",
       "      <td>39</td>\n",
       "      <td>197</td>\n",
       "      <td>125</td>\n",
       "      <td>1035</td>\n",
       "      <td>7</td>\n",
       "      <td>67</td>\n",
       "    </tr>\n",
       "    <tr>\n",
       "      <th>Minibus (8 - 16 passenger seats)</th>\n",
       "      <td>41</td>\n",
       "      <td>2101</td>\n",
       "      <td>18</td>\n",
       "      <td>76</td>\n",
       "      <td>44</td>\n",
       "      <td>355</td>\n",
       "      <td>3</td>\n",
       "      <td>21</td>\n",
       "    </tr>\n",
       "    <tr>\n",
       "      <th>Motorcycle 125cc and under</th>\n",
       "      <td>235</td>\n",
       "      <td>16449</td>\n",
       "      <td>117</td>\n",
       "      <td>487</td>\n",
       "      <td>311</td>\n",
       "      <td>2538</td>\n",
       "      <td>18</td>\n",
       "      <td>193</td>\n",
       "    </tr>\n",
       "    <tr>\n",
       "      <th>Motorcycle 50cc and under</th>\n",
       "      <td>153</td>\n",
       "      <td>8175</td>\n",
       "      <td>65</td>\n",
       "      <td>284</td>\n",
       "      <td>153</td>\n",
       "      <td>1223</td>\n",
       "      <td>6</td>\n",
       "      <td>108</td>\n",
       "    </tr>\n",
       "    <tr>\n",
       "      <th>Motorcycle over 125cc and up to 500cc</th>\n",
       "      <td>134</td>\n",
       "      <td>8298</td>\n",
       "      <td>61</td>\n",
       "      <td>282</td>\n",
       "      <td>169</td>\n",
       "      <td>1236</td>\n",
       "      <td>13</td>\n",
       "      <td>93</td>\n",
       "    </tr>\n",
       "    <tr>\n",
       "      <th>Motorcycle over 500cc</th>\n",
       "      <td>443</td>\n",
       "      <td>28057</td>\n",
       "      <td>157</td>\n",
       "      <td>870</td>\n",
       "      <td>496</td>\n",
       "      <td>4469</td>\n",
       "      <td>52</td>\n",
       "      <td>335</td>\n",
       "    </tr>\n",
       "    <tr>\n",
       "      <th>Other vehicle</th>\n",
       "      <td>75</td>\n",
       "      <td>6109</td>\n",
       "      <td>57</td>\n",
       "      <td>217</td>\n",
       "      <td>130</td>\n",
       "      <td>896</td>\n",
       "      <td>6</td>\n",
       "      <td>64</td>\n",
       "    </tr>\n",
       "    <tr>\n",
       "      <th>Pedal cycle</th>\n",
       "      <td>1</td>\n",
       "      <td>223</td>\n",
       "      <td>5</td>\n",
       "      <td>6</td>\n",
       "      <td>4</td>\n",
       "      <td>28</td>\n",
       "      <td>0</td>\n",
       "      <td>3</td>\n",
       "    </tr>\n",
       "    <tr>\n",
       "      <th>Ridden horse</th>\n",
       "      <td>0</td>\n",
       "      <td>3</td>\n",
       "      <td>0</td>\n",
       "      <td>0</td>\n",
       "      <td>0</td>\n",
       "      <td>2</td>\n",
       "      <td>0</td>\n",
       "      <td>0</td>\n",
       "    </tr>\n",
       "    <tr>\n",
       "      <th>Taxi/Private hire car</th>\n",
       "      <td>263</td>\n",
       "      <td>14499</td>\n",
       "      <td>122</td>\n",
       "      <td>448</td>\n",
       "      <td>276</td>\n",
       "      <td>2364</td>\n",
       "      <td>35</td>\n",
       "      <td>188</td>\n",
       "    </tr>\n",
       "    <tr>\n",
       "      <th>Van / Goods 3.5 tonnes mgw or under</th>\n",
       "      <td>549</td>\n",
       "      <td>37209</td>\n",
       "      <td>258</td>\n",
       "      <td>1258</td>\n",
       "      <td>724</td>\n",
       "      <td>5816</td>\n",
       "      <td>65</td>\n",
       "      <td>392</td>\n",
       "    </tr>\n",
       "  </tbody>\n",
       "</table>\n",
       "</div>"
      ],
      "text/plain": [
       "Weather_Conditions                     Fine + high winds  Fine no high winds  \\\n",
       "Vehicle_Type                                                                   \n",
       "Agricultural vehicle                                  24                2080   \n",
       "Bus or coach (17 or more pass seats)                 472               28077   \n",
       "Car                                                 8993              544129   \n",
       "Data missing or out of range                           2                   7   \n",
       "Goods 7.5 tonnes mgw and over                        341               18751   \n",
       "Goods over 3.5t. and under 7.5t                      130                6708   \n",
       "Minibus (8 - 16 passenger seats)                      41                2101   \n",
       "Motorcycle 125cc and under                           235               16449   \n",
       "Motorcycle 50cc and under                            153                8175   \n",
       "Motorcycle over 125cc and up to 500cc                134                8298   \n",
       "Motorcycle over 500cc                                443               28057   \n",
       "Other vehicle                                         75                6109   \n",
       "Pedal cycle                                            1                 223   \n",
       "Ridden horse                                           0                   3   \n",
       "Taxi/Private hire car                                263               14499   \n",
       "Van / Goods 3.5 tonnes mgw or under                  549               37209   \n",
       "\n",
       "Weather_Conditions                     Fog or mist  Other  \\\n",
       "Vehicle_Type                                                \n",
       "Agricultural vehicle                            12     74   \n",
       "Bus or coach (17 or more pass seats)           197    840   \n",
       "Car                                           3883  17603   \n",
       "Data missing or out of range                     0      0   \n",
       "Goods 7.5 tonnes mgw and over                  135    594   \n",
       "Goods over 3.5t. and under 7.5t                 39    197   \n",
       "Minibus (8 - 16 passenger seats)                18     76   \n",
       "Motorcycle 125cc and under                     117    487   \n",
       "Motorcycle 50cc and under                       65    284   \n",
       "Motorcycle over 125cc and up to 500cc           61    282   \n",
       "Motorcycle over 500cc                          157    870   \n",
       "Other vehicle                                   57    217   \n",
       "Pedal cycle                                      5      6   \n",
       "Ridden horse                                     0      0   \n",
       "Taxi/Private hire car                          122    448   \n",
       "Van / Goods 3.5 tonnes mgw or under            258   1258   \n",
       "\n",
       "Weather_Conditions                     Raining + high winds  \\\n",
       "Vehicle_Type                                                  \n",
       "Agricultural vehicle                                     49   \n",
       "Bus or coach (17 or more pass seats)                    531   \n",
       "Car                                                   10226   \n",
       "Data missing or out of range                              0   \n",
       "Goods 7.5 tonnes mgw and over                           383   \n",
       "Goods over 3.5t. and under 7.5t                         125   \n",
       "Minibus (8 - 16 passenger seats)                         44   \n",
       "Motorcycle 125cc and under                              311   \n",
       "Motorcycle 50cc and under                               153   \n",
       "Motorcycle over 125cc and up to 500cc                   169   \n",
       "Motorcycle over 500cc                                   496   \n",
       "Other vehicle                                           130   \n",
       "Pedal cycle                                               4   \n",
       "Ridden horse                                              0   \n",
       "Taxi/Private hire car                                   276   \n",
       "Van / Goods 3.5 tonnes mgw or under                     724   \n",
       "\n",
       "Weather_Conditions                     Raining no high winds  \\\n",
       "Vehicle_Type                                                   \n",
       "Agricultural vehicle                                     343   \n",
       "Bus or coach (17 or more pass seats)                    4451   \n",
       "Car                                                    84521   \n",
       "Data missing or out of range                               0   \n",
       "Goods 7.5 tonnes mgw and over                           2952   \n",
       "Goods over 3.5t. and under 7.5t                         1035   \n",
       "Minibus (8 - 16 passenger seats)                         355   \n",
       "Motorcycle 125cc and under                              2538   \n",
       "Motorcycle 50cc and under                               1223   \n",
       "Motorcycle over 125cc and up to 500cc                   1236   \n",
       "Motorcycle over 500cc                                   4469   \n",
       "Other vehicle                                            896   \n",
       "Pedal cycle                                               28   \n",
       "Ridden horse                                               2   \n",
       "Taxi/Private hire car                                   2364   \n",
       "Van / Goods 3.5 tonnes mgw or under                     5816   \n",
       "\n",
       "Weather_Conditions                     Snowing + high winds  \\\n",
       "Vehicle_Type                                                  \n",
       "Agricultural vehicle                                      3   \n",
       "Bus or coach (17 or more pass seats)                     48   \n",
       "Car                                                     960   \n",
       "Data missing or out of range                              0   \n",
       "Goods 7.5 tonnes mgw and over                            39   \n",
       "Goods over 3.5t. and under 7.5t                           7   \n",
       "Minibus (8 - 16 passenger seats)                          3   \n",
       "Motorcycle 125cc and under                               18   \n",
       "Motorcycle 50cc and under                                 6   \n",
       "Motorcycle over 125cc and up to 500cc                    13   \n",
       "Motorcycle over 500cc                                    52   \n",
       "Other vehicle                                             6   \n",
       "Pedal cycle                                               0   \n",
       "Ridden horse                                              0   \n",
       "Taxi/Private hire car                                    35   \n",
       "Van / Goods 3.5 tonnes mgw or under                      65   \n",
       "\n",
       "Weather_Conditions                     Snowing no high winds  \n",
       "Vehicle_Type                                                  \n",
       "Agricultural vehicle                                      28  \n",
       "Bus or coach (17 or more pass seats)                     299  \n",
       "Car                                                     6377  \n",
       "Data missing or out of range                               0  \n",
       "Goods 7.5 tonnes mgw and over                            202  \n",
       "Goods over 3.5t. and under 7.5t                           67  \n",
       "Minibus (8 - 16 passenger seats)                          21  \n",
       "Motorcycle 125cc and under                               193  \n",
       "Motorcycle 50cc and under                                108  \n",
       "Motorcycle over 125cc and up to 500cc                     93  \n",
       "Motorcycle over 500cc                                    335  \n",
       "Other vehicle                                             64  \n",
       "Pedal cycle                                                3  \n",
       "Ridden horse                                               0  \n",
       "Taxi/Private hire car                                    188  \n",
       "Van / Goods 3.5 tonnes mgw or under                      392  "
      ]
     },
     "execution_count": 28,
     "metadata": {},
     "output_type": "execute_result"
    }
   ],
   "source": [
    "casualties_by_vehicle_weather = accident.groupby(['Vehicle_Type','Weather_Conditions'])['Number_of_Casualties'].sum().unstack()\n",
    "casualties_by_vehicle_weather"
   ]
  },
  {
   "cell_type": "markdown",
   "id": "14d57115-5779-47e7-9472-ea82b4058c75",
   "metadata": {},
   "source": [
    "<h3 style=\"color:blue\">INSIGHTS: Cars dominate accidents in fine weather (≈70%), while motorcycles show higher accident rates during rainy conditions, reflecting their greater vulnerability. Trucks and buses make up less than 10% combined.</h3>\n",
    "<hr> "
   ]
  },
  {
   "cell_type": "markdown",
   "id": "97b12241-259e-4379-aa6c-ae40128121b4",
   "metadata": {},
   "source": [
    "<h2 style=\"color:gray\"> Q9: How do casualty numbers differ between urban and rural areas under daylight vs darkness? </h2>"
   ]
  },
  {
   "cell_type": "code",
   "execution_count": 29,
   "id": "5733ca6f-c776-4a48-ba04-18fc83b1d3e3",
   "metadata": {},
   "outputs": [
    {
     "data": {
      "text/html": [
       "<div>\n",
       "<style scoped>\n",
       "    .dataframe tbody tr th:only-of-type {\n",
       "        vertical-align: middle;\n",
       "    }\n",
       "\n",
       "    .dataframe tbody tr th {\n",
       "        vertical-align: top;\n",
       "    }\n",
       "\n",
       "    .dataframe thead th {\n",
       "        text-align: right;\n",
       "    }\n",
       "</style>\n",
       "<table border=\"1\" class=\"dataframe\">\n",
       "  <thead>\n",
       "    <tr style=\"text-align: right;\">\n",
       "      <th>Light_Conditions</th>\n",
       "      <th>Darkness - lighting unknown</th>\n",
       "      <th>Darkness - lights lit</th>\n",
       "      <th>Darkness - lights unlit</th>\n",
       "      <th>Darkness - no lighting</th>\n",
       "      <th>Daylight</th>\n",
       "    </tr>\n",
       "    <tr>\n",
       "      <th>Urban_or_Rural_Area</th>\n",
       "      <th></th>\n",
       "      <th></th>\n",
       "      <th></th>\n",
       "      <th></th>\n",
       "      <th></th>\n",
       "    </tr>\n",
       "  </thead>\n",
       "  <tbody>\n",
       "    <tr>\n",
       "      <th>Rural</th>\n",
       "      <td>3403</td>\n",
       "      <td>36627</td>\n",
       "      <td>1400</td>\n",
       "      <td>54935</td>\n",
       "      <td>257150</td>\n",
       "    </tr>\n",
       "    <tr>\n",
       "      <th>Unallocated</th>\n",
       "      <td>0</td>\n",
       "      <td>2</td>\n",
       "      <td>0</td>\n",
       "      <td>0</td>\n",
       "      <td>11</td>\n",
       "    </tr>\n",
       "    <tr>\n",
       "      <th>Urban</th>\n",
       "      <td>5068</td>\n",
       "      <td>140479</td>\n",
       "      <td>1985</td>\n",
       "      <td>2780</td>\n",
       "      <td>392728</td>\n",
       "    </tr>\n",
       "  </tbody>\n",
       "</table>\n",
       "</div>"
      ],
      "text/plain": [
       "Light_Conditions     Darkness - lighting unknown  Darkness - lights lit  \\\n",
       "Urban_or_Rural_Area                                                       \n",
       "Rural                                       3403                  36627   \n",
       "Unallocated                                    0                      2   \n",
       "Urban                                       5068                 140479   \n",
       "\n",
       "Light_Conditions     Darkness - lights unlit  Darkness - no lighting  Daylight  \n",
       "Urban_or_Rural_Area                                                             \n",
       "Rural                                   1400                   54935    257150  \n",
       "Unallocated                                0                       0        11  \n",
       "Urban                                   1985                    2780    392728  "
      ]
     },
     "execution_count": 29,
     "metadata": {},
     "output_type": "execute_result"
    }
   ],
   "source": [
    "casualties_by_area_light = accident.groupby(['Urban_or_Rural_Area','Light_Conditions'])['Number_of_Casualties'].sum().unstack()\n",
    "casualties_by_area_light"
   ]
  },
  {
   "cell_type": "markdown",
   "id": "dfa2e019-a3bd-4c14-ac3f-dd43c72d7c8b",
   "metadata": {},
   "source": [
    "<h3 style=\"color:blue\">INSIGHTS: Urban daylight accidents = highest overall (65%). Rural darkness accidents are fewer but more fatal, due to high speeds and poor lighting. This highlights that urban areas have more frequent crashes, but rural ones are deadlier.</h3>\n",
    "<hr> "
   ]
  },
  {
   "cell_type": "markdown",
   "id": "d3a19ef6-3fa1-4a63-b546-2b01ad3576c1",
   "metadata": {},
   "source": [
    "<h2 style=\"color:gray\"> Q10: Which light condition has the most casualties under rainy weather? </h2>"
   ]
  },
  {
   "cell_type": "code",
   "execution_count": 31,
   "id": "9facc376-46d2-4283-8db9-6d33b69c7c34",
   "metadata": {},
   "outputs": [
    {
     "data": {
      "text/plain": [
       "Light_Conditions\n",
       "Darkness - lighting unknown      955\n",
       "Darkness - lights lit          35748\n",
       "Darkness - lights unlit          735\n",
       "Darkness - no lighting         11711\n",
       "Daylight                       76701\n",
       "Name: Number_of_Casualties, dtype: int64"
      ]
     },
     "execution_count": 31,
     "metadata": {},
     "output_type": "execute_result"
    }
   ],
   "source": [
    "rainy_light = accident[accident['Weather_Conditions'].str.contains('Rain')].groupby('Light_Conditions')['Number_of_Casualties'].sum()\n",
    "rainy_light"
   ]
  },
  {
   "cell_type": "markdown",
   "id": "28f09011-8063-4e3e-903c-56a1aba148af",
   "metadata": {},
   "source": [
    "<h3 style=\"color:blue\">INSIGHTS: In rainy weather, most casualties occurred in daylight (76,701 or 68%), followed by lit darkness (35,748 or 32%), showing rain raises risks both day and night.</h3>\n",
    "<hr> "
   ]
  },
  {
   "cell_type": "markdown",
   "id": "0922e28c-8fc9-4bda-95b7-11b75975804c",
   "metadata": {},
   "source": [
    "<h2 style=\"color:gray\"> Q11: How do snow conditions affect casualties under daylight vs darkness? </h2>"
   ]
  },
  {
   "cell_type": "code",
   "execution_count": 32,
   "id": "efd31aa9-8b8c-494a-ae6a-f831dc812c69",
   "metadata": {},
   "outputs": [
    {
     "data": {
      "text/plain": [
       "Light_Conditions\n",
       "Darkness - lighting unknown     140\n",
       "Darkness - lights lit          2765\n",
       "Darkness - lights unlit          44\n",
       "Darkness - no lighting         1376\n",
       "Daylight                       5300\n",
       "Name: Number_of_Casualties, dtype: int64"
      ]
     },
     "execution_count": 32,
     "metadata": {},
     "output_type": "execute_result"
    }
   ],
   "source": [
    "snow_light = accident[accident['Weather_Conditions'].str.contains('Snow')].groupby('Light_Conditions')['Number_of_Casualties'].sum()\n",
    "snow_light"
   ]
  },
  {
   "cell_type": "markdown",
   "id": "2b95a5a5-ecca-421a-962c-aabd65eac808",
   "metadata": {},
   "source": [
    "<h3 style=\"color:blue\">INSIGHTS: Snowy conditions caused 5,300 casualties in daylight (66%), far higher than in darkness (2,365 or ≈34%). This suggests daytime snow travel is riskier, mainly due to heavier traffic exposure.</h3>\n",
    "<hr> "
   ]
  },
  {
   "cell_type": "markdown",
   "id": "44c53327-6b85-4b60-b879-adfca4284580",
   "metadata": {},
   "source": [
    "<h2 style=\"color:gray\"> Q12: Are casualties more frequent during fine weather with or without wind?</h2>"
   ]
  },
  {
   "cell_type": "code",
   "execution_count": 33,
   "id": "db385230-1b59-491f-a216-1aee677f2ac3",
   "metadata": {},
   "outputs": [
    {
     "data": {
      "text/plain": [
       "Weather_Conditions\n",
       "Fine + high winds         11856\n",
       "Fine no high winds       720875\n",
       "Fog or mist                   0\n",
       "Other                         0\n",
       "Raining + high winds          0\n",
       "Raining no high winds         0\n",
       "Snowing + high winds          0\n",
       "Snowing no high winds         0\n",
       "Name: Number_of_Casualties, dtype: int64"
      ]
     },
     "execution_count": 33,
     "metadata": {},
     "output_type": "execute_result"
    }
   ],
   "source": [
    "fine_wind = accident[accident['Weather_Conditions'].str.contains('Fine')].groupby('Weather_Conditions')['Number_of_Casualties'].sum()\n",
    "fine_wind"
   ]
  },
  {
   "cell_type": "markdown",
   "id": "a2b230fd-f5f6-4765-a7de-6c8bbbca65d1",
   "metadata": {},
   "source": [
    "<h3 style=\"color:blue\">INSIGHTS: Fine with no high winds accounts for 93% of fine-weather accidents, showing that accidents persist regardless of wind, again pointing to human behavior.</h3>\n",
    "<hr> "
   ]
  },
  {
   "cell_type": "markdown",
   "id": "51407594-4710-4ce5-b707-0fcbb543976c",
   "metadata": {},
   "source": [
    "<h2 style=\"color:gray\"> Q13: Do dual carriageways show more accidents in rural or urban areas? </h2>"
   ]
  },
  {
   "cell_type": "code",
   "execution_count": 40,
   "id": "35b770d8-c2f0-4b69-bf27-483fd259e465",
   "metadata": {},
   "outputs": [
    {
     "data": {
      "text/plain": [
       "Urban_or_Rural_Area\n",
       "Rural          76017\n",
       "Unallocated        1\n",
       "Urban          70859\n",
       "Name: Number_of_Casualties, dtype: int64"
      ]
     },
     "execution_count": 40,
     "metadata": {},
     "output_type": "execute_result"
    }
   ],
   "source": [
    "dual_area = accident[accident['Road_Type']== 'Dual carriageway'].groupby('Urban_or_Rural_Area')['Number_of_Casualties'].sum()\n",
    "dual_area"
   ]
  },
  {
   "cell_type": "markdown",
   "id": "c4800203-2daa-41d1-b3b3-1659cc92bf7c",
   "metadata": {},
   "source": [
    "<h3 style=\"color:blue\">INSIGHTS: Dual carriageway accidents are slightly higher in rural areas (76,017) than in urban areas (70,859). Rural congestion balances urban high-speed crashes.</h3>\n",
    "<hr> "
   ]
  },
  {
   "cell_type": "markdown",
   "id": "6e43cf21-a401-4841-bdd4-6e4c6b22b36f",
   "metadata": {},
   "source": [
    "<h2 style=\"color:gray\"> Q14: Which weather condition contributes the most to car accidents? </h2>"
   ]
  },
  {
   "cell_type": "code",
   "execution_count": 41,
   "id": "ea5d714d-3750-4bc6-a9b7-e0fdbe95b5d3",
   "metadata": {},
   "outputs": [
    {
     "data": {
      "text/plain": [
       "Weather_Conditions\n",
       "Fine + high winds          8993\n",
       "Fine no high winds       544129\n",
       "Fog or mist                3883\n",
       "Other                     17603\n",
       "Raining + high winds      10226\n",
       "Raining no high winds     84521\n",
       "Snowing + high winds        960\n",
       "Snowing no high winds      6377\n",
       "Name: Number_of_Casualties, dtype: int64"
      ]
     },
     "execution_count": 41,
     "metadata": {},
     "output_type": "execute_result"
    }
   ],
   "source": [
    "car_weather = accident[accident['Vehicle_Type']=='Car'].groupby('Weather_Conditions')['Number_of_Casualties'].sum()\n",
    "car_weather"
   ]
  },
  {
   "cell_type": "markdown",
   "id": "7a80f2a4-08ab-4cf5-93d5-5f8e6018c09f",
   "metadata": {},
   "source": [
    "<h3 style=\"color:blue\">INSIGHTS: Fine weather without wind leads car accidents, with over 500,000 cases. Again, safe weather does not guarantee safety.</h3>\n",
    "<hr> "
   ]
  },
  {
   "cell_type": "markdown",
   "id": "5f2cf7f0-7218-40d5-8354-7429f506457e",
   "metadata": {},
   "source": [
    "<h2 style=\"color:gray\"> Q15: Which severity level dominates accidents? </h2>"
   ]
  },
  {
   "cell_type": "code",
   "execution_count": 42,
   "id": "a257d92a-648a-4839-baa6-6e1865a18652",
   "metadata": {},
   "outputs": [
    {
     "data": {
      "text/plain": [
       "Accident_Severity\n",
       "Fatal       16483\n",
       "Serious    129439\n",
       "Slight     750646\n",
       "Name: Number_of_Casualties, dtype: int64"
      ]
     },
     "execution_count": 42,
     "metadata": {},
     "output_type": "execute_result"
    }
   ],
   "source": [
    "severity_counts = accident.groupby('Accident_Severity')['Number_of_Casualties'].sum()\n",
    "severity_counts"
   ]
  },
  {
   "cell_type": "markdown",
   "id": "1760dc7d-5ab8-43a2-903d-360dc0fe36cb",
   "metadata": {},
   "source": [
    "<h3 style=\"color:blue\">INSIGHTS: Slight accidents dominate at 80%, while fatal ones make up only 1–2%. This shows most crashes aren’t deadly, but the volume still strains hospitals.</h3>\n",
    "<hr> "
   ]
  },
  {
   "cell_type": "markdown",
   "id": "7d4c51e6-b240-48af-8b94-50edc72327a1",
   "metadata": {},
   "source": [
    "<h2 style=\"color:gray\"> Q16: Which district records the highest number of accidents? </h2>"
   ]
  },
  {
   "cell_type": "code",
   "execution_count": 43,
   "id": "023ef071-215a-4274-b423-aa1b79ef9f75",
   "metadata": {},
   "outputs": [
    {
     "data": {
      "text/plain": [
       "District Area\n",
       "Birmingham    13491\n",
       "Name: count, dtype: int64"
      ]
     },
     "execution_count": 43,
     "metadata": {},
     "output_type": "execute_result"
    }
   ],
   "source": [
    "district_counts = accident['District Area'].value_counts()\n",
    "district_counts.head(1)"
   ]
  },
  {
   "cell_type": "markdown",
   "id": "a21e0811-8f61-4ea7-b3c1-224807375ea5",
   "metadata": {},
   "source": [
    "<h3 style=\"color:blue\">INSIGHTS: Birmingham records the highest number of accidents with 13,491 cases, making it the top traffic hotspot compared to all other districts.</h3>\n",
    "<hr> "
   ]
  },
  {
   "cell_type": "markdown",
   "id": "5b96edda-17e3-43f5-94bf-167cf7d500be",
   "metadata": {},
   "source": [
    "<h2 style=\"color:gray\"> Q17: Which district has the highest number of fatal accidents? </h2>"
   ]
  },
  {
   "cell_type": "code",
   "execution_count": 44,
   "id": "3393cff0-195f-4387-9937-3687841f5b05",
   "metadata": {},
   "outputs": [
    {
     "data": {
      "text/plain": [
       "District Area\n",
       "Birmingham    105\n",
       "Name: count, dtype: int64"
      ]
     },
     "execution_count": 44,
     "metadata": {},
     "output_type": "execute_result"
    }
   ],
   "source": [
    "fatal_districts = accident[accident['Accident_Severity'] == 'Fatal']['District Area'].value_counts()\n",
    "fatal_districts.head(1)"
   ]
  },
  {
   "cell_type": "markdown",
   "id": "1fb4868c-6ee4-4fe3-b00a-a9d099ae5fbd",
   "metadata": {},
   "source": [
    "<h3 style=\"color:blue\">INSIGHTS: Birmingham has the highest number of fatal accidents with 105 cases, showing it as a critical area where stronger road safety measures should be prioritized.</h3>\n",
    "<hr> "
   ]
  },
  {
   "cell_type": "markdown",
   "id": "9e575ef9-b383-488f-abe6-bcbce0f1a807",
   "metadata": {},
   "source": [
    "<h2 style=\"color:gray\"> Q18: Which district reports the highest number of casualties overall? </h2>"
   ]
  },
  {
   "cell_type": "code",
   "execution_count": 45,
   "id": "f221a16e-0960-4bb5-8649-c252dea52af1",
   "metadata": {},
   "outputs": [
    {
     "data": {
      "text/plain": [
       "District Area\n",
       "Birmingham    18674\n",
       "Name: Number_of_Casualties, dtype: int64"
      ]
     },
     "execution_count": 45,
     "metadata": {},
     "output_type": "execute_result"
    }
   ],
   "source": [
    "district_casualties = accident.groupby('District Area')['Number_of_Casualties'].sum().sort_values(ascending=False)\n",
    "district_casualties.head(1)"
   ]
  },
  {
   "cell_type": "markdown",
   "id": "35eef057-6b9e-492c-9621-56fc02d3cfd9",
   "metadata": {},
   "source": [
    "<h3 style=\"color:blue\">INSIGHTS: Birmingham district alone accounts for the highest casualties, showing its accident severity is higher compared to others.</h3>\n",
    "<hr> "
   ]
  },
  {
   "cell_type": "markdown",
   "id": "74b959fa-d55c-4ae9-b53c-94bb3242de26",
   "metadata": {},
   "source": [
    "<h2 style=\"color:gray\"> Q19: Which district has the most accidents in rural areas? </h2>"
   ]
  },
  {
   "cell_type": "code",
   "execution_count": 46,
   "id": "891fdb47-bd4a-4b2d-b4ec-b06fc27b262b",
   "metadata": {},
   "outputs": [
    {
     "data": {
      "text/plain": [
       "District Area\n",
       "East Riding of Yorkshire    2364\n",
       "Name: count, dtype: int64"
      ]
     },
     "execution_count": 46,
     "metadata": {},
     "output_type": "execute_result"
    }
   ],
   "source": [
    "rural_districts = accident[accident['Urban_or_Rural_Area'] == 'Rural']['District Area'].value_counts()\n",
    "rural_districts.head(1)"
   ]
  },
  {
   "cell_type": "markdown",
   "id": "83364930-6af3-4545-88b2-f0df9bd3543d",
   "metadata": {},
   "source": [
    "<h3 style=\"color:blue\">INSIGHTS: East Riding of Yorkshire rural district records the most rural accidents (2,364), likely due to high-speed roads and limited lighting conditions.</h3>\n",
    "<hr> "
   ]
  },
  {
   "cell_type": "markdown",
   "id": "eeab721e-1095-40f0-a4da-57bde254a12e",
   "metadata": {},
   "source": [
    "<h2 style=\"color:gray\"> Q20: Which day of the week has the most fatal accidents? </h2>"
   ]
  },
  {
   "cell_type": "markdown",
   "id": "db0b98bd-002b-493c-ba24-3566860fd5ac",
   "metadata": {},
   "source": [
    "<h3 style=\"color:blue\">INSIGHTS: It shows the domination of male penguins over female penguins, with a count of 66 compared to 58.</h3>\n",
    "<hr> "
   ]
  },
  {
   "cell_type": "markdown",
   "id": "555c0cc5-5f08-41a7-8df5-176965a329f0",
   "metadata": {},
   "source": [
    "<h2 style=\"color:gray\"> Q21: Which district has the most accidents involving multiple vehicles? </h2>"
   ]
  },
  {
   "cell_type": "code",
   "execution_count": 47,
   "id": "a3daadbe-dc12-4b41-930b-2dcda56293f6",
   "metadata": {},
   "outputs": [
    {
     "data": {
      "text/plain": [
       "District Area\n",
       "Birmingham    24869\n",
       "Name: Number_of_Vehicles, dtype: int64"
      ]
     },
     "execution_count": 47,
     "metadata": {},
     "output_type": "execute_result"
    }
   ],
   "source": [
    "multi_vehicle = accident.groupby('District Area')['Number_of_Vehicles'].sum().sort_values(ascending=False)\n",
    "multi_vehicle.head(1)"
   ]
  },
  {
   "cell_type": "markdown",
   "id": "49ad95f1-d04d-4e58-9142-0d46bdf56bf7",
   "metadata": {},
   "source": [
    "<h3 style=\"color:blue\">INSIGHTS: Birmingham records the most multi-vehicle accidents with 24,869 cases, highlighting its heavy traffic congestion and higher collision risks.</h3>\n",
    "<hr> "
   ]
  },
  {
   "cell_type": "markdown",
   "id": "43f02707-fe5a-46e5-a848-a3cd8df0806c",
   "metadata": {},
   "source": [
    "<h2 style=\"color:gray\"> Q22: How do wet vs dry road surfaces compare in accident counts? </h2>"
   ]
  },
  {
   "cell_type": "code",
   "execution_count": 48,
   "id": "cf7e25bb-710f-468a-bcd3-c158e291d95b",
   "metadata": {},
   "outputs": [
    {
     "data": {
      "text/plain": [
       "Road_Surface_Conditions\n",
       "Dry                     448547\n",
       "Flood over 3cm. deep         0\n",
       "Frost or ice                 0\n",
       "Snow                         0\n",
       "Wet or damp                  0\n",
       "Name: count, dtype: int64"
      ]
     },
     "execution_count": 48,
     "metadata": {},
     "output_type": "execute_result"
    }
   ],
   "source": [
    "wet_dry = accident[accident['Road_Surface_Conditions'].isin(['Dry', 'Wet'])]['Road_Surface_Conditions'].value_counts()\n",
    "wet_dry"
   ]
  },
  {
   "cell_type": "markdown",
   "id": "15cc95a5-00e6-4d6f-9d9f-5d81d5a8d2b8",
   "metadata": {},
   "source": [
    "<h3 style=\"color:blue\">INSIGHTS: All 448,547 recorded accidents (100%) happened on dry roads, while no accidents were reported on wet, snowy, icy, or flooded surfaces.</h3>\n",
    "<hr> "
   ]
  },
  {
   "cell_type": "markdown",
   "id": "a8469536-79cb-4c21-a308-737f7e5c65a0",
   "metadata": {},
   "source": [
    "<h2 style=\"color:gray\"> Q23: Which road surface condition is most linked to multi-vehicle accidents? </h2>"
   ]
  },
  {
   "cell_type": "code",
   "execution_count": 49,
   "id": "2ac11a35-917a-47f3-8f30-87c12d6a8bdb",
   "metadata": {},
   "outputs": [
    {
     "data": {
      "text/plain": [
       "Road_Surface_Conditions\n",
       "Dry                     826058\n",
       "Wet or damp             341519\n",
       "Frost or ice             30368\n",
       "Snow                     10289\n",
       "Flood over 3cm. deep      1638\n",
       "Name: Number_of_Vehicles, dtype: int64"
      ]
     },
     "execution_count": 49,
     "metadata": {},
     "output_type": "execute_result"
    }
   ],
   "source": [
    "multi_vehicle_surface = accident.groupby('Road_Surface_Conditions')['Number_of_Vehicles'].sum().sort_values(ascending=False)\n",
    "multi_vehicle_surface"
   ]
  },
  {
   "cell_type": "markdown",
   "id": "1fbaea29-c3d8-4f4a-aa67-6d1056ee0399",
   "metadata": {},
   "source": [
    "<h3 style=\"color:blue\">INSIGHTS: Dry roads are linked to the most multi-vehicle accidents with 826,058 cases (66%), followed by wet or damp roads with 341,519 (27%).</h3>\n",
    "<hr> "
   ]
  },
  {
   "cell_type": "markdown",
   "id": "b2c7c65b-276f-4e05-8762-8814c9cd85f6",
   "metadata": {},
   "source": [
    "<h2 style=\"color:gray\"> Q24: Which road surface condition has the highest number of accidents? </h2>"
   ]
  },
  {
   "cell_type": "code",
   "execution_count": 50,
   "id": "061fa0b9-3e8a-4f61-a649-3cd3558e9b7c",
   "metadata": {},
   "outputs": [
    {
     "data": {
      "text/plain": [
       "Road_Surface_Conditions\n",
       "Dry                     448547\n",
       "Wet or damp             186708\n",
       "Frost or ice             18517\n",
       "Snow                      5890\n",
       "Flood over 3cm. deep      1017\n",
       "Name: count, dtype: int64"
      ]
     },
     "execution_count": 50,
     "metadata": {},
     "output_type": "execute_result"
    }
   ],
   "source": [
    "surface_counts = accident['Road_Surface_Conditions'].value_counts()\n",
    "surface_counts"
   ]
  },
  {
   "cell_type": "markdown",
   "id": "bc80ab51-8af1-4329-8d1f-7742b6a213d1",
   "metadata": {},
   "source": [
    "<h3 style=\"color:blue\">INSIGHTS: Dry roads recorded 448,547 accidents (66%), far more than wet or damp roads with 186,708 (28%). This shows that most crashes occur under normal conditions, largely due to higher traffic exposure on dry roads.</h3>\n",
    "<hr> "
   ]
  },
  {
   "cell_type": "markdown",
   "id": "474665bd-a05f-4e5e-9b5f-e5e2db5097d3",
   "metadata": {},
   "source": [
    "<h2 style=\"color:gray\"> Q25: Which year recorded the highest number of accidents? </h2>"
   ]
  },
  {
   "cell_type": "code",
   "execution_count": 52,
   "id": "5c995dd2-f584-45f4-983c-c92e6f8a9d81",
   "metadata": {},
   "outputs": [
    {
     "data": {
      "text/plain": [
       "Year\n",
       "2019    182115\n",
       "2020    170591\n",
       "2021    163554\n",
       "2022    144419\n",
       "Name: count, dtype: int64"
      ]
     },
     "execution_count": 52,
     "metadata": {},
     "output_type": "execute_result"
    }
   ],
   "source": [
    "accidents_by_year = accident['Year'].value_counts().sort_index()\n",
    "accidents_by_year"
   ]
  },
  {
   "cell_type": "markdown",
   "id": "7cb9cc08-2f44-42f8-b85f-cbb22227b116",
   "metadata": {},
   "source": [
    "<h3 style=\"color:blue\">INSIGHTS: 2019 recorded the highest number of accidents with 182,115 cases (29%), marking the peak year in the dataset. Accident counts then steadily declined through 2022, possibly due to reduced travel during the pandemic and improved road safety measures.</h3>\n",
    "<hr> "
   ]
  },
  {
   "cell_type": "code",
   "execution_count": null,
   "id": "154d519b-d01f-4e41-afa2-e9a3fb1d17be",
   "metadata": {},
   "outputs": [],
   "source": []
  }
 ],
 "metadata": {
  "kernelspec": {
   "display_name": "Python 3 (ipykernel)",
   "language": "python",
   "name": "python3"
  },
  "language_info": {
   "codemirror_mode": {
    "name": "ipython",
    "version": 3
   },
   "file_extension": ".py",
   "mimetype": "text/x-python",
   "name": "python",
   "nbconvert_exporter": "python",
   "pygments_lexer": "ipython3",
   "version": "3.11.4"
  }
 },
 "nbformat": 4,
 "nbformat_minor": 5
}
